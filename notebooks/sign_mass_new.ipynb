{
 "cells": [
  {
   "cell_type": "code",
   "execution_count": null,
   "metadata": {},
   "outputs": [],
   "source": [
    "%load_ext autoreload\n",
    "%autoreload 2\n",
    "%cd .."
   ]
  },
  {
   "cell_type": "code",
   "execution_count": null,
   "metadata": {},
   "outputs": [],
   "source": [
    "%cd cl-adaptation/"
   ]
  },
  {
   "cell_type": "code",
   "execution_count": null,
   "metadata": {},
   "outputs": [],
   "source": [
    "import torch\n",
    "\n",
    "torch.cuda.is_available()"
   ]
  },
  {
   "cell_type": "code",
   "execution_count": null,
   "metadata": {},
   "outputs": [],
   "source": [
    "import torch\n",
    "from collections import defaultdict\n",
    "from matplotlib import pyplot as plt\n",
    "import numpy as np\n",
    "import pandas as pd\n",
    "\n",
    "from src.analysis import core\n",
    "import re\n",
    "\n",
    "DEVICE = \"cuda\"\n",
    "\n",
    "\n",
    "get_digits = lambda str: int(re.sub(r\"\\D\", \"\", str))\n",
    "\n",
    "\n",
    "def is_sign_changed(output_1: torch.Tensor, output_2: torch.Tensor):\n",
    "    return (output_1.mean(0) * output_2.mean(0)) < 0\n",
    "\n",
    "\n",
    "def sign_mass(name_path: dict, device=\"cpu\"):\n",
    "    columns = len(name_path)\n",
    "\n",
    "    # plt.rcParams.update({\"font.size\": 16})\n",
    "\n",
    "    # fig, axs = plt.subplots(1, columns, dpi=100, figsize=(columns * 5, 1 * 5))\n",
    "\n",
    "    # train_loader, _, test_loader, taskcla = data_factory[0]\n",
    "    exp_analysis = defaultdict(list)\n",
    "\n",
    "    for col, (exp_name, exp_path) in enumerate(name_path.items()):\n",
    "        print(exp_name)\n",
    "        cfg = core.create_cfg(exp_path)\n",
    "        cfg.data.max_examples_per_class_tst = 32\n",
    "        cfg.data.num_workers = 1\n",
    "        cfg.data.batch_size = 32\n",
    "\n",
    "        data_factory = core.DataFactory(cfg)\n",
    "        _, _, test_loader, taskcla = data_factory[0]\n",
    "        model_factory = core.ModelFactory(cfg, exp_path, device=device)\n",
    "\n",
    "        for task_idx, ckpt in enumerate(sorted(model_factory.ckpts)):\n",
    "            assert task_idx == get_digits(ckpt.name)\n",
    "            if task_idx == 0:\n",
    "                model = model_factory.create_model(\n",
    "                    task=task_idx, num_classes=taskcla[1]\n",
    "                )\n",
    "                weights = model.heads[-1].weight\n",
    "                outs_0 = core.get_activations(model.model, test_loader, device=device)\n",
    "                continue\n",
    "\n",
    "            model = model_factory.create_model(task=task_idx, num_classes=taskcla[1])\n",
    "            outs = core.get_activations(model.model, test_loader, device=device)\n",
    "            labels_signs = {}\n",
    "            for label in outs_0.keys():\n",
    "                d_changed = is_sign_changed(outs_0[label], outs[label])\n",
    "                labels_signs[label] = d_changed\n",
    "                # print(d_changed.sum())\n",
    "\n",
    "            sorted_signs = torch.stack(\n",
    "                [value for key, value in sorted(labels_signs.items())]\n",
    "            )\n",
    "            changed_mass = (\n",
    "                sorted_signs * weights.abs() / weights.abs().sum(1).unsqueeze(1)\n",
    "            ).sum(1)\n",
    "            before_sum = (\n",
    "                sorted_signs * weights.abs() / weights.abs().sum(1).unsqueeze(1)\n",
    "            )\n",
    "            print(\n",
    "                f\"{sorted_signs.shape=}, {weights.shape=}, {before_sum.shape=}, {changed_mass.shape=}\"\n",
    "            )\n",
    "\n",
    "            exp_analysis[exp_name].append(changed_mass.detach().cpu())\n",
    "            # exp_analysis[exp_name].append(sorted_signs.sum(1).detach().cpu() / 768)\n",
    "            # print(\n",
    "            #     f\"{changed_mass.mean().item()=:.2f} {changed_mass.min().item()=:.2f} {changed_mass.max().item()=:.2f}\"\n",
    "            # )\n",
    "    return exp_analysis"
   ]
  },
  {
   "cell_type": "code",
   "execution_count": null,
   "metadata": {},
   "outputs": [],
   "source": [
    "from pathlib import Path\n",
    "\n",
    "# p = Path(\"models/cifar100_5/resnet34\")\n",
    "p = Path(\"models/cifar100_5/convnext\")\n",
    "expname_path = {}\n",
    "for dir in p.iterdir():\n",
    "    for i in dir.iterdir():\n",
    "        path = i.readlink()\n",
    "        exp_name = \"_\".join(i.parts[2:])\n",
    "        expname_path[exp_name] = path"
   ]
  },
  {
   "cell_type": "code",
   "execution_count": null,
   "metadata": {},
   "outputs": [],
   "source": [
    "expname_path"
   ]
  },
  {
   "cell_type": "code",
   "execution_count": null,
   "metadata": {},
   "outputs": [],
   "source": [
    "# expname_path = {\n",
    "#     \"convnext_finetuning_reg\": \"results/2024/04.24/13-34-44/0/cifar100_fixed_finetuning\",\n",
    "#     \"convnext_finetuning_noreg\": \"results/2024/04.17/18-12-39/0/cifar100_fixed_finetuning_final_checkpoint\",\n",
    "#     # \"convnext_ewc_reg\": \"results/2024/04.24/13-34-32/4/cifar100_fixed_ewc\",\n",
    "#     # \"convnext_ewc_noreg\": \"results/2024/04.22/23-58-48/0/cifar100_fixed_ewc_final_checkpoint\",\n",
    "#     # \"convnext_lwf_reg\": \"results/2024/04.24/13-35-04/0/cifar100_fixed_lwf\",\n",
    "#     # \"convnext_lwf_noreg\": \"results/2024/04.27/10-23-48/0/cifar100_fixed_lwf\",\n",
    "#     # \"convnext_replay_reg\": \"results/2024/04.24/13-34-32/2/cifar100_fixed_finetuning\",\n",
    "#     # \"convnext_replay_noreg\": \"results/2024/04.17/18-12-39/1/cifar100_fixed_finetuning_final_checkpoint\",\n",
    "# }"
   ]
  },
  {
   "cell_type": "code",
   "execution_count": null,
   "metadata": {},
   "outputs": [],
   "source": [
    "finetuning_exps = {\n",
    "    # \"resnet34_finetuning_reg\": \"results/2024/04.24/13-35-10/0/cifar100_fixed_finetuning\",\n",
    "    \"resnet34_finetuning_noreg\": \"results/2024/04.17/18-13-25/0/cifar100_fixed_finetuning_final_checkpoint\",\n",
    "}"
   ]
  },
  {
   "cell_type": "code",
   "execution_count": null,
   "metadata": {},
   "outputs": [],
   "source": [
    "DEVICE = \"cpu\"\n",
    "exp_analysis = sign_mass(finetuning_exps, DEVICE)\n",
    "# exp_analysis = sign_mass(\n",
    "#     dict(filter(lambda x: \"finetuning\" in x[0], expname_path.items())), DEVICE\n",
    "# )"
   ]
  },
  {
   "cell_type": "code",
   "execution_count": null,
   "metadata": {},
   "outputs": [],
   "source": [
    "import torch\n",
    "\n",
    "exp_analysis = torch.load(\"exp_analysis.pkl\")"
   ]
  },
  {
   "cell_type": "code",
   "execution_count": null,
   "metadata": {},
   "outputs": [],
   "source": [
    "exp_analysis[\"convnext_finetuning_reg\"][0]"
   ]
  },
  {
   "cell_type": "code",
   "execution_count": null,
   "metadata": {},
   "outputs": [],
   "source": [
    "import re\n",
    "import matplotlib.pyplot as plt\n",
    "import numpy as np\n",
    "import matplotlib as mpl\n",
    "from matplotlib.cm import get_cmap\n",
    "\n",
    "cmap = get_cmap(\"Set3\")\n",
    "colors = [cmap(0), cmap(3)]\n",
    "\n",
    "mpl.rcParams[\"text.usetex\"] = False\n",
    "mpl.rcParams[\"text.latex.preamble\"] = r\"\\usepackage{amsmath}\"\n",
    "nice_fonts = {\n",
    "    \"text.usetex\": True,\n",
    "    \"font.family\": \"serif\",\n",
    "    \"font.serif\": \"Times New Roman\",\n",
    "    \"font.size\": 20,\n",
    "    \"lines.linewidth\": 3,\n",
    "}\n",
    "\n",
    "save_fig_opt = {\n",
    "    \"dpi\": 800,\n",
    "    \"transparent\": True,\n",
    "    \"bbox_inches\": \"tight\",\n",
    "    \"pad_inches\": 0,\n",
    "}\n",
    "\n",
    "mpl.rcParams.update(nice_fonts)\n",
    "\n",
    "\n",
    "method_mapping = {\n",
    "    \"finetuning\": \"Finetuning\",\n",
    "    \"replay\": \"Finetuning + exemplars\",\n",
    "    \"ewc\": \"EWC\",\n",
    "    \"lwf\": \"LWF\",\n",
    "}\n",
    "reg_mapping = {\n",
    "    \"reg\": \"Regularization\",\n",
    "    \"noreg\": \"No regularization\",\n",
    "}"
   ]
  },
  {
   "cell_type": "code",
   "execution_count": null,
   "metadata": {},
   "outputs": [],
   "source": [
    "exp_analysis.keys()"
   ]
  },
  {
   "cell_type": "code",
   "execution_count": null,
   "metadata": {},
   "outputs": [],
   "source": [
    "exp_analysis[\"convnext_finetuning_reg\"]"
   ]
  },
  {
   "cell_type": "code",
   "execution_count": null,
   "metadata": {},
   "outputs": [],
   "source": [
    "def plt_subplots(exp_analysis):\n",
    "    methods_pattern = re.compile(r\"^.*_(.*)_\")\n",
    "    # methods = set([methods_pattern.match(key).group(1) for key in exp_analysis.keys()])\n",
    "    methods = [\"finetuning\", \"replay\", \"ewc\", \"lwf\"]\n",
    "    fig, axs = plt.subplots(1, len(methods), figsize=(20, 5))\n",
    "    if len(methods) == 1:\n",
    "        axs = [axs]\n",
    "\n",
    "    for i, method in enumerate(methods):\n",
    "        exp_names = [exp_name for exp_name in exp_analysis.keys() if method in exp_name]\n",
    "        for name in exp_names:\n",
    "            arr = (\n",
    "                np.array([task_a.detach().cpu() for task_a in exp_analysis[name]]) * 100\n",
    "            )\n",
    "            *net_name, method_name, is_reg_name = name.split(\"_\")\n",
    "            color_idx = list(reg_mapping.keys()).index(is_reg_name)\n",
    "            steps = range(2, arr.shape[0] + 2)\n",
    "            axs[i].plot(\n",
    "                steps,\n",
    "                arr.mean(1),\n",
    "                \"--\" if color_idx == 1 else \"-\",\n",
    "                label=reg_mapping[is_reg_name],\n",
    "                color=colors[color_idx],\n",
    "            )\n",
    "            axs[i].fill_between(\n",
    "                steps,\n",
    "                arr.mean(1) - arr.std(1),\n",
    "                arr.mean(1) + arr.std(1),\n",
    "                # color=\"gray\",\n",
    "                alpha=0.2,\n",
    "                color=colors[color_idx],\n",
    "            )\n",
    "            axs[i].set_ylim([0, 50])\n",
    "            axs[i].set_xticks(steps)\n",
    "            axs[i].legend(loc=\"upper left\", fancybox=True, shadow=False)\n",
    "            # axs[i].grid(b=True, which=\"major\", linestyle=\"-\")\n",
    "            axs[i].grid(which=\"major\", linestyle=\"-\")\n",
    "            axs[i].set_title(method_mapping[method_name])\n",
    "        if i == 0:\n",
    "            axs[i].set_ylabel(r\"Mass change [\\%]\")\n",
    "        else:\n",
    "            axs[i].set(ylabel=\"\", yticklabels=[])\n",
    "        axs[i].set_xlabel(r\"Model after $i_{th}$ task\")\n",
    "    fig.tight_layout()\n",
    "    plt.show()\n",
    "    fig.savefig(\"fig.pdf\", **save_fig_opt)\n",
    "\n",
    "\n",
    "plt_subplots(exp_analysis)"
   ]
  },
  {
   "cell_type": "code",
   "execution_count": null,
   "metadata": {},
   "outputs": [],
   "source": [
    "exp_analysis"
   ]
  },
  {
   "cell_type": "code",
   "execution_count": null,
   "metadata": {},
   "outputs": [],
   "source": [
    "torch.save(exp_analysis, \"exp_analysis.pkl\")"
   ]
  },
  {
   "cell_type": "code",
   "execution_count": null,
   "metadata": {},
   "outputs": [],
   "source": [
    "exp_analysis"
   ]
  },
  {
   "cell_type": "code",
   "execution_count": null,
   "metadata": {},
   "outputs": [],
   "source": [
    "plt.figure(figsize=(10, 8))\n",
    "plt.rcParams.update({\"font.size\": 16})\n",
    "for exp_name, task_analysis in exp_analysis.items():\n",
    "    arr = np.array([task_a.detach().cpu() for task_a in task_analysis]) * 100\n",
    "    marker = \"o-\" if \"noreg\" in exp_name else \"o--\"\n",
    "    steps = list(range(2, len(task_analysis) + 2))\n",
    "    plt.plot(steps, arr.mean(1), marker, label=exp_name)\n",
    "    plt.fill_between(\n",
    "        steps,\n",
    "        arr.mean(1) - arr.std(1),\n",
    "        arr.mean(1) + arr.std(1),\n",
    "        # color=\"gray\",\n",
    "        alpha=0.2,\n",
    "    )\n",
    "plt.legend(loc=\"upper left\", fancybox=True, shadow=False)\n",
    "plt.grid()\n",
    "plt.tight_layout()\n",
    "plt.xticks(steps)\n",
    "plt.xlabel(\"Model wytrenowany po i-tym zadaniu\")\n",
    "plt.ylabel(\"% masy zmiany znaku wag\")\n",
    "# plt.title(\"Ważona zmiana znaku wektora cech na danych z pierwszego zadania\")\n",
    "plt.ylim(0, 45)"
   ]
  },
  {
   "cell_type": "code",
   "execution_count": null,
   "metadata": {},
   "outputs": [],
   "source": [
    "exp_analysis"
   ]
  },
  {
   "cell_type": "code",
   "execution_count": null,
   "metadata": {},
   "outputs": [],
   "source": []
  }
 ],
 "metadata": {
  "kernelspec": {
   "display_name": "Python 3 (ipykernel)",
   "language": "python",
   "name": "python3"
  },
  "language_info": {
   "codemirror_mode": {
    "name": "ipython",
    "version": 3
   },
   "file_extension": ".py",
   "mimetype": "text/x-python",
   "name": "python",
   "nbconvert_exporter": "python",
   "pygments_lexer": "ipython3",
   "version": "3.10.12"
  }
 },
 "nbformat": 4,
 "nbformat_minor": 4
}
