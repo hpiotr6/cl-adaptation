{
 "cells": [
  {
   "cell_type": "code",
   "execution_count": 1,
   "metadata": {},
   "outputs": [
    {
     "name": "stdout",
     "output_type": "stream",
     "text": [
      "/net/tscratch/people/plghpiotr\n"
     ]
    }
   ],
   "source": [
    "%load_ext autoreload\n",
    "%autoreload 2\n",
    "%cd .."
   ]
  },
  {
   "cell_type": "code",
   "execution_count": 2,
   "metadata": {},
   "outputs": [
    {
     "name": "stdout",
     "output_type": "stream",
     "text": [
      "/net/tscratch/people/plghpiotr/cl-adaptation\n"
     ]
    }
   ],
   "source": [
    "%cd cl-adaptation/"
   ]
  },
  {
   "cell_type": "code",
   "execution_count": 5,
   "metadata": {},
   "outputs": [
    {
     "name": "stdout",
     "output_type": "stream",
     "text": [
      "Files already downloaded and verified\n",
      "Files already downloaded and verified\n"
     ]
    },
    {
     "name": "stderr",
     "output_type": "stream",
     "text": [
      "GPU available: True (cuda), used: True\n",
      "TPU available: False, using: 0 TPU cores\n",
      "IPU available: False, using: 0 IPUs\n",
      "HPU available: False, using: 0 HPUs\n",
      "You are using a CUDA device ('NVIDIA A100-SXM4-40GB') that has Tensor Cores. To properly utilize them, you should set `torch.set_float32_matmul_precision('medium' | 'high')` which will trade-off precision for performance. For more details, read https://pytorch.org/docs/stable/generated/torch.set_float32_matmul_precision.html#torch.set_float32_matmul_precision\n",
      "LOCAL_RANK: 0 - CUDA_VISIBLE_DEVICES: [0]\n",
      "\n",
      "  | Name         | Type     | Params\n",
      "------------------------------------------\n",
      "0 | base_model   | ConvNeXt | 27.8 M\n",
      "1 | linear_layer | Linear   | 15.4 K\n",
      "------------------------------------------\n",
      "15.4 K    Trainable params\n",
      "27.8 M    Non-trainable params\n",
      "27.8 M    Total params\n",
      "111.334   Total estimated model params size (MB)\n"
     ]
    },
    {
     "name": "stdout",
     "output_type": "stream",
     "text": [
      "<All keys matched successfully>\n",
      "Epoch 0: 100%|███████████████████████████████████████████████████████████████████████████████████████████████████████████████████████████████████████████████████████████████████████████████████████████████████████████████████████████████████████████████████████████████████████████████████████████████████████████████████| 71/71 [00:05<00:00, 11.88it/s, v_num=5]"
     ]
    },
    {
     "name": "stderr",
     "output_type": "stream",
     "text": [
      "`Trainer.fit` stopped: `max_epochs=1` reached.\n"
     ]
    },
    {
     "name": "stdout",
     "output_type": "stream",
     "text": [
      "Epoch 0: 100%|███████████████████████████████████████████████████████████████████████████████████████████████████████████████████████████████████████████████████████████████████████████████████████████████████████████████████████████████████████████████████████████████████████████████████████████████████████████████████| 71/71 [00:06<00:00, 11.13it/s, v_num=5]\n"
     ]
    },
    {
     "name": "stderr",
     "output_type": "stream",
     "text": [
      "You are using a CUDA device ('NVIDIA A100-SXM4-40GB') that has Tensor Cores. To properly utilize them, you should set `torch.set_float32_matmul_precision('medium' | 'high')` which will trade-off precision for performance. For more details, read https://pytorch.org/docs/stable/generated/torch.set_float32_matmul_precision.html#torch.set_float32_matmul_precision\n",
      "Restoring states from the checkpoint path at /net/tscratch/people/plghpiotr/cl-adaptation/linear_checkpoints/convnext_finetuning_reg__dt:0_t:0_linear_p_best_epoch=00-val_loss=1.29.ckpt\n",
      "LOCAL_RANK: 0 - CUDA_VISIBLE_DEVICES: [0]\n",
      "Loaded model weights from the checkpoint at /net/tscratch/people/plghpiotr/cl-adaptation/linear_checkpoints/convnext_finetuning_reg__dt:0_t:0_linear_p_best_epoch=00-val_loss=1.29.ckpt\n"
     ]
    },
    {
     "name": "stdout",
     "output_type": "stream",
     "text": [
      "Testing DataLoader 0: 100%|███████████████████████████████████████████████████████████████████████████████████████████████████████████████████████████████████████████████████████████████████████████████████████████████████████████████████████████████████████████████████████████████████████████████████████████████████████████████| 16/16 [00:00<00:00, 25.72it/s]\n",
      "────────────────────────────────────────────────────────────────────────────────────────────────────────────────────────\n",
      "       Test metric             DataLoader 0\n",
      "────────────────────────────────────────────────────────────────────────────────────────────────────────────────────────\n",
      "        test_acc            0.6974999904632568\n",
      "        test_loss           0.9455268383026123\n",
      "────────────────────────────────────────────────────────────────────────────────────────────────────────────────────────\n"
     ]
    },
    {
     "name": "stderr",
     "output_type": "stream",
     "text": [
      "GPU available: True (cuda), used: True\n",
      "TPU available: False, using: 0 TPU cores\n",
      "IPU available: False, using: 0 IPUs\n",
      "HPU available: False, using: 0 HPUs\n",
      "You are using a CUDA device ('NVIDIA A100-SXM4-40GB') that has Tensor Cores. To properly utilize them, you should set `torch.set_float32_matmul_precision('medium' | 'high')` which will trade-off precision for performance. For more details, read https://pytorch.org/docs/stable/generated/torch.set_float32_matmul_precision.html#torch.set_float32_matmul_precision\n",
      "LOCAL_RANK: 0 - CUDA_VISIBLE_DEVICES: [0]\n",
      "\n",
      "  | Name         | Type     | Params\n",
      "------------------------------------------\n",
      "0 | base_model   | ConvNeXt | 27.8 M\n",
      "1 | linear_layer | Linear   | 15.4 K\n",
      "------------------------------------------\n",
      "15.4 K    Trainable params\n",
      "27.8 M    Non-trainable params\n",
      "27.8 M    Total params\n",
      "111.334   Total estimated model params size (MB)\n"
     ]
    },
    {
     "name": "stdout",
     "output_type": "stream",
     "text": [
      "<All keys matched successfully>\n",
      "Epoch 0: 100%|███████████████████████████████████████████████████████████████████████████████████████████████████████████████████████████████████████████████████████████████████████████████████████████████████████████████████████████████████████████████████████████████████████████████████████████████████████████████████| 71/71 [00:08<00:00,  8.49it/s, v_num=6]"
     ]
    },
    {
     "name": "stderr",
     "output_type": "stream",
     "text": [
      "`Trainer.fit` stopped: `max_epochs=1` reached.\n"
     ]
    },
    {
     "name": "stdout",
     "output_type": "stream",
     "text": [
      "Epoch 0: 100%|███████████████████████████████████████████████████████████████████████████████████████████████████████████████████████████████████████████████████████████████████████████████████████████████████████████████████████████████████████████████████████████████████████████████████████████████████████████████████| 71/71 [00:08<00:00,  8.06it/s, v_num=6]\n"
     ]
    },
    {
     "name": "stderr",
     "output_type": "stream",
     "text": [
      "You are using a CUDA device ('NVIDIA A100-SXM4-40GB') that has Tensor Cores. To properly utilize them, you should set `torch.set_float32_matmul_precision('medium' | 'high')` which will trade-off precision for performance. For more details, read https://pytorch.org/docs/stable/generated/torch.set_float32_matmul_precision.html#torch.set_float32_matmul_precision\n",
      "Restoring states from the checkpoint path at /net/tscratch/people/plghpiotr/cl-adaptation/linear_checkpoints/convnext_finetuning_reg__dt:0_t:1_linear_p_best_epoch=00-val_loss=1.83.ckpt\n",
      "LOCAL_RANK: 0 - CUDA_VISIBLE_DEVICES: [0]\n",
      "Loaded model weights from the checkpoint at /net/tscratch/people/plghpiotr/cl-adaptation/linear_checkpoints/convnext_finetuning_reg__dt:0_t:1_linear_p_best_epoch=00-val_loss=1.83.ckpt\n"
     ]
    },
    {
     "name": "stdout",
     "output_type": "stream",
     "text": [
      "Testing DataLoader 0: 100%|███████████████████████████████████████████████████████████████████████████████████████████████████████████████████████████████████████████████████████████████████████████████████████████████████████████████████████████████████████████████████████████████████████████████████████████████████████████████| 16/16 [00:00<00:00, 26.95it/s]\n",
      "────────────────────────────────────────────────────────────────────────────────────────────────────────────────────────\n",
      "       Test metric             DataLoader 0\n",
      "────────────────────────────────────────────────────────────────────────────────────────────────────────────────────────\n",
      "        test_acc             0.652999997138977\n",
      "        test_loss           1.1009713411331177\n",
      "────────────────────────────────────────────────────────────────────────────────────────────────────────────────────────\n",
      "                                                                                                                                                                                                                                                                                                                                                                          \r"
     ]
    },
    {
     "name": "stderr",
     "output_type": "stream",
     "text": [
      "GPU available: True (cuda), used: True\n",
      "TPU available: False, using: 0 TPU cores\n",
      "IPU available: False, using: 0 IPUs\n",
      "HPU available: False, using: 0 HPUs\n",
      "You are using a CUDA device ('NVIDIA A100-SXM4-40GB') that has Tensor Cores. To properly utilize them, you should set `torch.set_float32_matmul_precision('medium' | 'high')` which will trade-off precision for performance. For more details, read https://pytorch.org/docs/stable/generated/torch.set_float32_matmul_precision.html#torch.set_float32_matmul_precision\n",
      "LOCAL_RANK: 0 - CUDA_VISIBLE_DEVICES: [0]\n"
     ]
    },
    {
     "name": "stdout",
     "output_type": "stream",
     "text": [
      "<All keys matched successfully>\n"
     ]
    },
    {
     "name": "stderr",
     "output_type": "stream",
     "text": [
      "\n",
      "  | Name         | Type     | Params\n",
      "------------------------------------------\n",
      "0 | base_model   | ConvNeXt | 27.8 M\n",
      "1 | linear_layer | Linear   | 15.4 K\n",
      "------------------------------------------\n",
      "15.4 K    Trainable params\n",
      "27.8 M    Non-trainable params\n",
      "27.8 M    Total params\n",
      "111.334   Total estimated model params size (MB)\n"
     ]
    },
    {
     "name": "stdout",
     "output_type": "stream",
     "text": [
      "Epoch 0: 100%|███████████████████████████████████████████████████████████████████████████████████████████████████████████████████████████████████████████████████████████████████████████████████████████████████████████████████████████████████████████████████████████████████████████████████████████████████████████████████| 71/71 [00:06<00:00, 11.17it/s, v_num=7]"
     ]
    },
    {
     "name": "stderr",
     "output_type": "stream",
     "text": [
      "`Trainer.fit` stopped: `max_epochs=1` reached.\n"
     ]
    },
    {
     "name": "stdout",
     "output_type": "stream",
     "text": [
      "Epoch 0: 100%|███████████████████████████████████████████████████████████████████████████████████████████████████████████████████████████████████████████████████████████████████████████████████████████████████████████████████████████████████████████████████████████████████████████████████████████████████████████████████| 71/71 [00:06<00:00, 10.20it/s, v_num=7]\n"
     ]
    },
    {
     "name": "stderr",
     "output_type": "stream",
     "text": [
      "You are using a CUDA device ('NVIDIA A100-SXM4-40GB') that has Tensor Cores. To properly utilize them, you should set `torch.set_float32_matmul_precision('medium' | 'high')` which will trade-off precision for performance. For more details, read https://pytorch.org/docs/stable/generated/torch.set_float32_matmul_precision.html#torch.set_float32_matmul_precision\n",
      "Restoring states from the checkpoint path at /net/tscratch/people/plghpiotr/cl-adaptation/linear_checkpoints/convnext_finetuning_reg__dt:0_t:2_linear_p_best_epoch=00-val_loss=1.89.ckpt\n",
      "LOCAL_RANK: 0 - CUDA_VISIBLE_DEVICES: [0]\n",
      "Loaded model weights from the checkpoint at /net/tscratch/people/plghpiotr/cl-adaptation/linear_checkpoints/convnext_finetuning_reg__dt:0_t:2_linear_p_best_epoch=00-val_loss=1.89.ckpt\n"
     ]
    },
    {
     "name": "stdout",
     "output_type": "stream",
     "text": [
      "Testing DataLoader 0: 100%|███████████████████████████████████████████████████████████████████████████████████████████████████████████████████████████████████████████████████████████████████████████████████████████████████████████████████████████████████████████████████████████████████████████████████████████████████████████████| 16/16 [00:00<00:00, 26.04it/s]\n",
      "────────────────────────────────────────────────────────────────────────────────────────────────────────────────────────\n",
      "       Test metric             DataLoader 0\n",
      "────────────────────────────────────────────────────────────────────────────────────────────────────────────────────────\n",
      "        test_acc            0.6620000004768372\n",
      "        test_loss           1.1051071882247925\n",
      "────────────────────────────────────────────────────────────────────────────────────────────────────────────────────────\n"
     ]
    },
    {
     "name": "stderr",
     "output_type": "stream",
     "text": [
      "GPU available: True (cuda), used: True\n",
      "TPU available: False, using: 0 TPU cores\n",
      "IPU available: False, using: 0 IPUs\n",
      "HPU available: False, using: 0 HPUs\n",
      "You are using a CUDA device ('NVIDIA A100-SXM4-40GB') that has Tensor Cores. To properly utilize them, you should set `torch.set_float32_matmul_precision('medium' | 'high')` which will trade-off precision for performance. For more details, read https://pytorch.org/docs/stable/generated/torch.set_float32_matmul_precision.html#torch.set_float32_matmul_precision\n",
      "LOCAL_RANK: 0 - CUDA_VISIBLE_DEVICES: [0]\n",
      "\n",
      "  | Name         | Type     | Params\n",
      "------------------------------------------\n",
      "0 | base_model   | ConvNeXt | 27.8 M\n",
      "1 | linear_layer | Linear   | 15.4 K\n",
      "------------------------------------------\n",
      "15.4 K    Trainable params\n",
      "27.8 M    Non-trainable params\n",
      "27.8 M    Total params\n",
      "111.334   Total estimated model params size (MB)\n"
     ]
    },
    {
     "name": "stdout",
     "output_type": "stream",
     "text": [
      "<All keys matched successfully>\n",
      "Epoch 0: 100%|███████████████████████████████████████████████████████████████████████████████████████████████████████████████████████████████████████████████████████████████████████████████████████████████████████████████████████████████████████████████████████████████████████████████████████████████████████████████████| 71/71 [00:07<00:00,  9.84it/s, v_num=8]"
     ]
    },
    {
     "name": "stderr",
     "output_type": "stream",
     "text": [
      "`Trainer.fit` stopped: `max_epochs=1` reached.\n"
     ]
    },
    {
     "name": "stdout",
     "output_type": "stream",
     "text": [
      "Epoch 0: 100%|███████████████████████████████████████████████████████████████████████████████████████████████████████████████████████████████████████████████████████████████████████████████████████████████████████████████████████████████████████████████████████████████████████████████████████████████████████████████████| 71/71 [00:07<00:00,  9.25it/s, v_num=8]\n"
     ]
    },
    {
     "name": "stderr",
     "output_type": "stream",
     "text": [
      "You are using a CUDA device ('NVIDIA A100-SXM4-40GB') that has Tensor Cores. To properly utilize them, you should set `torch.set_float32_matmul_precision('medium' | 'high')` which will trade-off precision for performance. For more details, read https://pytorch.org/docs/stable/generated/torch.set_float32_matmul_precision.html#torch.set_float32_matmul_precision\n",
      "Restoring states from the checkpoint path at /net/tscratch/people/plghpiotr/cl-adaptation/linear_checkpoints/convnext_finetuning_reg__dt:0_t:3_linear_p_best_epoch=00-val_loss=1.94.ckpt\n",
      "LOCAL_RANK: 0 - CUDA_VISIBLE_DEVICES: [0]\n",
      "Loaded model weights from the checkpoint at /net/tscratch/people/plghpiotr/cl-adaptation/linear_checkpoints/convnext_finetuning_reg__dt:0_t:3_linear_p_best_epoch=00-val_loss=1.94.ckpt\n"
     ]
    },
    {
     "name": "stdout",
     "output_type": "stream",
     "text": [
      "Testing DataLoader 0: 100%|███████████████████████████████████████████████████████████████████████████████████████████████████████████████████████████████████████████████████████████████████████████████████████████████████████████████████████████████████████████████████████████████████████████████████████████████████████████████| 16/16 [00:00<00:00, 27.74it/s]\n",
      "────────────────────────────────────────────────────────────────────────────────────────────────────────────────────────\n",
      "       Test metric             DataLoader 0\n",
      "────────────────────────────────────────────────────────────────────────────────────────────────────────────────────────\n",
      "        test_acc            0.6230000257492065\n",
      "        test_loss           1.1650176048278809\n",
      "────────────────────────────────────────────────────────────────────────────────────────────────────────────────────────\n"
     ]
    },
    {
     "name": "stderr",
     "output_type": "stream",
     "text": [
      "GPU available: True (cuda), used: True\n",
      "TPU available: False, using: 0 TPU cores\n",
      "IPU available: False, using: 0 IPUs\n",
      "HPU available: False, using: 0 HPUs\n",
      "You are using a CUDA device ('NVIDIA A100-SXM4-40GB') that has Tensor Cores. To properly utilize them, you should set `torch.set_float32_matmul_precision('medium' | 'high')` which will trade-off precision for performance. For more details, read https://pytorch.org/docs/stable/generated/torch.set_float32_matmul_precision.html#torch.set_float32_matmul_precision\n",
      "LOCAL_RANK: 0 - CUDA_VISIBLE_DEVICES: [0]\n"
     ]
    },
    {
     "name": "stdout",
     "output_type": "stream",
     "text": [
      "<All keys matched successfully>\n"
     ]
    },
    {
     "name": "stderr",
     "output_type": "stream",
     "text": [
      "\n",
      "  | Name         | Type     | Params\n",
      "------------------------------------------\n",
      "0 | base_model   | ConvNeXt | 27.8 M\n",
      "1 | linear_layer | Linear   | 15.4 K\n",
      "------------------------------------------\n",
      "15.4 K    Trainable params\n",
      "27.8 M    Non-trainable params\n",
      "27.8 M    Total params\n",
      "111.334   Total estimated model params size (MB)\n"
     ]
    },
    {
     "name": "stdout",
     "output_type": "stream",
     "text": [
      "Epoch 0: 100%|███████████████████████████████████████████████████████████████████████████████████████████████████████████████████████████████████████████████████████████████████████████████████████████████████████████████████████████████████████████████████████████████████████████████████████████████████████████████████| 71/71 [00:07<00:00,  9.88it/s, v_num=9]"
     ]
    },
    {
     "name": "stderr",
     "output_type": "stream",
     "text": [
      "`Trainer.fit` stopped: `max_epochs=1` reached.\n"
     ]
    },
    {
     "name": "stdout",
     "output_type": "stream",
     "text": [
      "Epoch 0: 100%|███████████████████████████████████████████████████████████████████████████████████████████████████████████████████████████████████████████████████████████████████████████████████████████████████████████████████████████████████████████████████████████████████████████████████████████████████████████████████| 71/71 [00:07<00:00,  8.99it/s, v_num=9]\n"
     ]
    },
    {
     "name": "stderr",
     "output_type": "stream",
     "text": [
      "You are using a CUDA device ('NVIDIA A100-SXM4-40GB') that has Tensor Cores. To properly utilize them, you should set `torch.set_float32_matmul_precision('medium' | 'high')` which will trade-off precision for performance. For more details, read https://pytorch.org/docs/stable/generated/torch.set_float32_matmul_precision.html#torch.set_float32_matmul_precision\n",
      "Restoring states from the checkpoint path at /net/tscratch/people/plghpiotr/cl-adaptation/linear_checkpoints/convnext_finetuning_reg__dt:0_t:4_linear_p_best_epoch=00-val_loss=1.84.ckpt\n",
      "LOCAL_RANK: 0 - CUDA_VISIBLE_DEVICES: [0]\n",
      "Loaded model weights from the checkpoint at /net/tscratch/people/plghpiotr/cl-adaptation/linear_checkpoints/convnext_finetuning_reg__dt:0_t:4_linear_p_best_epoch=00-val_loss=1.84.ckpt\n"
     ]
    },
    {
     "name": "stdout",
     "output_type": "stream",
     "text": [
      "Testing DataLoader 0: 100%|███████████████████████████████████████████████████████████████████████████████████████████████████████████████████████████████████████████████████████████████████████████████████████████████████████████████████████████████████████████████████████████████████████████████████████████████████████████████| 16/16 [00:00<00:00, 26.53it/s]\n",
      "────────────────────────────────────────────────────────────────────────────────────────────────────────────────────────\n",
      "       Test metric             DataLoader 0\n",
      "────────────────────────────────────────────────────────────────────────────────────────────────────────────────────────\n",
      "        test_acc             0.659500002861023\n",
      "        test_loss           1.0762181282043457\n",
      "────────────────────────────────────────────────────────────────────────────────────────────────────────────────────────\n"
     ]
    }
   ],
   "source": [
    "from copy import deepcopy\n",
    "import os\n",
    "from dataclasses import dataclass\n",
    "from datetime import datetime\n",
    "from functools import partial\n",
    "from pathlib import Path\n",
    "from typing import Literal\n",
    "\n",
    "import hydra\n",
    "import pytorch_lightning as pl\n",
    "import torch\n",
    "import torch.nn as nn\n",
    "import torch.nn.functional as F\n",
    "from omegaconf import DictConfig\n",
    "from pytorch_lightning.callbacks import ModelCheckpoint\n",
    "from pytorch_lightning.loggers import WandbLogger\n",
    "from torch.optim import AdamW\n",
    "from torch.utils.data import DataLoader, random_split\n",
    "import wandb\n",
    "\n",
    "from src.analysis import core\n",
    "from src.datasets.memory_dataset import MemoryDataset\n",
    "\n",
    "\n",
    "class LinearProbingModel(pl.LightningModule):\n",
    "    def __init__(self, base_model, num_classes):\n",
    "        super(LinearProbingModel, self).__init__()\n",
    "        self.base_model = base_model\n",
    "\n",
    "        self._freeze_extractor()\n",
    "\n",
    "        features_size = 768  # FIXME\n",
    "\n",
    "        self.linear_layer = nn.Linear(features_size, num_classes)\n",
    "        torch.nn.init.zeros_(self.linear_layer.weight)\n",
    "        torch.nn.init.zeros_(self.linear_layer.bias)\n",
    "\n",
    "        self.save_hyperparameters(ignore=[\"base_model\"])\n",
    "\n",
    "    def _freeze_extractor(self):\n",
    "        self.base_model.eval()\n",
    "        for param in self.base_model.parameters():\n",
    "            param.requires_grad = False\n",
    "\n",
    "    def forward(self, x):\n",
    "        features = self.base_model(x)\n",
    "        out = self.linear_layer(features)\n",
    "        return out\n",
    "\n",
    "    def configure_optimizers(self):\n",
    "        return AdamW(self.parameters(), lr=1e-3)\n",
    "\n",
    "    def shared_step(self, batch, mode=\"train\"):\n",
    "        x, y = batch\n",
    "        logits = self(x)\n",
    "        loss = F.cross_entropy(logits, y)\n",
    "        preds = torch.argmax(logits, dim=1)\n",
    "        acc = (preds == y).float().mean()\n",
    "        self.log(\"%s_loss\" % mode, loss)\n",
    "        self.log(\"%s_acc\" % mode, acc, on_step=False, on_epoch=True)\n",
    "        return loss, acc\n",
    "\n",
    "    def training_step(self, batch, batch_idx):\n",
    "        loss, _ = self.shared_step(batch, mode=\"train\")\n",
    "        return loss\n",
    "\n",
    "    def validation_step(self, batch, batch_idx):\n",
    "        _ = self.shared_step(batch, mode=\"val\")\n",
    "\n",
    "    def test_step(self, batch, batch_idx):\n",
    "        _ = self.shared_step(batch, mode=\"test\")\n",
    "\n",
    "\n",
    "def offset_labels(data: MemoryDataset, num_classes, data_idx):\n",
    "    offset = num_classes * data_idx\n",
    "    data_cp = deepcopy(data)\n",
    "    data_cp.labels = list(map(lambda x: x - offset, data.labels))\n",
    "    assert min(data_cp.labels) == 0\n",
    "    assert max(data_cp.labels) >= num_classes - 1\n",
    "    return data_cp\n",
    "\n",
    "\n",
    "if __name__ == \"__main__\":\n",
    "    expname_path = {\n",
    "        \"convnext_finetuning_reg\": \"results/2024/04.24/13-34-44/0/cifar100_fixed_finetuning\",\n",
    "        \"convnext_finetuning_noreg\": \"results/2024/04.17/18-12-39/0/cifar100_fixed_finetuning_final_checkpoint\",\n",
    "        \"convnext_ewc_reg\": \"results/2024/04.24/13-34-32/4/cifar100_fixed_ewc\",\n",
    "        \"convnext_ewc_noreg\": \"results/2024/04.22/23-58-48/0/cifar100_fixed_ewc_final_checkpoint\",\n",
    "        \"convnext_lwf_reg\": \"results/2024/04.24/13-35-04/0/cifar100_fixed_lwf\",\n",
    "        \"convnext_lwf_noreg\": \"results/2024/04.27/10-23-48/0/cifar100_fixed_lwf\",\n",
    "        \"convnext_replay_reg\": \"results/2024/04.24/13-34-32/2/cifar100_fixed_finetuning\",\n",
    "        \"convnext_replay_noreg\": \"results/2024/04.17/18-12-39/1/cifar100_fixed_finetuning_final_checkpoint\",\n",
    "    }\n",
    "    MAX_EPOCHS = 30\n",
    "    root = Path(\"linear_checkpoints\")\n",
    "    root.mkdir(exist_ok=True)\n",
    "\n",
    "    num_classes = 20\n",
    "    device = \"cuda\"\n",
    "    data_task = 0\n",
    "\n",
    "    for exp_name, exp_path in expname_path.items():\n",
    "        # task = 0\n",
    "\n",
    "        cfg = core.create_cfg(exp_path)\n",
    "        cfg.data.use_test_as_val = False\n",
    "\n",
    "        data_factory = core.DataFactory(cfg)\n",
    "        train_loader, val_loader, test_loader, taskcla = data_factory[data_task]\n",
    "        model_factory = core.ModelFactory(cfg, exp_path, device=device)\n",
    "        for task_idx, ckpt in enumerate(sorted(model_factory.ckpts)):\n",
    "            model = model_factory.create_model(task=task_idx, num_classes=num_classes)\n",
    "\n",
    "            linear_probing_model = LinearProbingModel(model.model, num_classes)\n",
    "\n",
    "            ckpt_filename = (\n",
    "                f\"{exp_name}__dt:{data_task}_t:{task_idx}\"\n",
    "                + \"_linear_p_best_{epoch:02d}-{val_loss:.2f}\"\n",
    "            )\n",
    "\n",
    "            checkpoint_callback = ModelCheckpoint(\n",
    "                monitor=\"val_loss\",  # Metric to monitor for improvement\n",
    "                mode=\"min\",  # 'min' if the metric should be minimized, 'max' if maximized\n",
    "                dirpath=root,  # Directory to save checkpoints\n",
    "                filename=ckpt_filename,  # Naming pattern for saved checkpoints\n",
    "            )\n",
    "\n",
    "            trainer = pl.Trainer(\n",
    "                max_epochs=MAX_EPOCHS,\n",
    "                devices=1,\n",
    "                callbacks=[checkpoint_callback],  # Pass the ModelCheckpoint callback\n",
    "            )  # You can adjust the number of epochs and other parameters\n",
    "            trainer.fit(linear_probing_model, train_loader, val_loader)\n",
    "\n",
    "            trainer.test(linear_probing_model, test_loader, ckpt_path=\"best\")"
   ]
  },
  {
   "cell_type": "code",
   "execution_count": null,
   "metadata": {},
   "outputs": [],
   "source": []
  }
 ],
 "metadata": {
  "kernelspec": {
   "display_name": "Python 3 (ipykernel)",
   "language": "python",
   "name": "python3"
  }
 },
 "nbformat": 4,
 "nbformat_minor": 2
}
