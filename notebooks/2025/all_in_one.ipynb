{
 "cells": [
  {
   "cell_type": "code",
   "execution_count": 6,
   "metadata": {},
   "outputs": [],
   "source": [
    "from IPython.core.interactiveshell import InteractiveShell\n",
    "\n",
    "InteractiveShell.ast_node_interactivity = \"all\""
   ]
  },
  {
   "cell_type": "code",
   "execution_count": 7,
   "metadata": {},
   "outputs": [],
   "source": [
    "import core\n",
    "import pandas as pd\n",
    "import numpy as np"
   ]
  },
  {
   "cell_type": "code",
   "execution_count": null,
   "metadata": {},
   "outputs": [],
   "source": [
    "all_df = pd.read_csv(\"all.csv\")\n",
    "df_noreg = all_df[all_df[\"is_regularized\"] == False]\n",
    "df_noreg[\"is_big_task\"] = False\n",
    "df_noreg[\"dataset\"] = df_noreg[\"dataset\"].replace(\n",
    "    {\n",
    "        \"cifar100_fixed\": \"cifar100\",\n",
    "        \"imagenet100_subset_kaggle\": \"imagenet100\",\n",
    "    }\n",
    ")\n",
    "df_noreg = df_noreg[\n",
    "    ~(\n",
    "        (df_noreg[\"approach\"] == \"lwf\")\n",
    "        & (df_noreg[\"dataset\"].str.contains(\"cifar\"))\n",
    "        & (df_noreg[\"network\"].str.contains(\"resnet\"))\n",
    "        & (df_noreg[\"num_tasks\"] == 20)\n",
    "        & (df_noreg[\"seed\"].isin([0, 1]))\n",
    "    )\n",
    "]"
   ]
  },
  {
   "cell_type": "code",
   "execution_count": null,
   "metadata": {},
   "outputs": [],
   "source": [
    "finetuning_ewc_resnet, failed_runs, not_finished_runs = core.get_df_cl(\"01.20\", 8)\n",
    "len(failed_runs)\n",
    "len(not_finished_runs)\n",
    "finetuning_ewc_resnet.shape\n",
    "\n",
    "\n",
    "finetuning_ewc_resnet = finetuning_ewc_resnet[\n",
    "    (finetuning_ewc_resnet[\"network\"].str.contains(\"resnet\"))\n",
    "    & (finetuning_ewc_resnet[\"approach\"].isin([\"finetuning\", \"ewc\"]))\n",
    "]"
   ]
  },
  {
   "cell_type": "code",
   "execution_count": null,
   "metadata": {},
   "outputs": [],
   "source": [
    "finetuning_ewc_convnext, failed_runs, not_finished_runs = core.get_df_cl(\"01.23\", 8)\n",
    "len(failed_runs)\n",
    "len(not_finished_runs)\n",
    "finetuning_ewc_convnext.shape\n",
    "\n",
    "\n",
    "finetuning_ewc_convnext = finetuning_ewc_convnext[\n",
    "    (finetuning_ewc_convnext[\"network\"].str.contains(\"convnext\"))\n",
    "    & (finetuning_ewc_convnext[\"approach\"].isin([\"finetuning\", \"ewc\"]))\n",
    "    & (finetuning_ewc_convnext[\"is_regularized\"])\n",
    "]"
   ]
  },
  {
   "cell_type": "code",
   "execution_count": null,
   "metadata": {},
   "outputs": [],
   "source": [
    "big_all_or_lwf_replay, failed_runs, not_finished_runs = core.get_df_cl(\"01.28\", 8)\n",
    "len(failed_runs)\n",
    "len(not_finished_runs)\n",
    "big_all_or_lwf_replay.shape\n",
    "\n",
    "big_all_met = big_all_or_lwf_replay[big_all_or_lwf_replay[\"is_big_task\"]]\n",
    "lwf_replay = big_all_or_lwf_replay[~big_all_or_lwf_replay[\"is_big_task\"]]"
   ]
  },
  {
   "cell_type": "code",
   "execution_count": null,
   "metadata": {},
   "outputs": [],
   "source": [
    "reg_fetril, failed_runs, not_finished_runs = core.get_df_pycil(\n",
    "    \"pycil-01.28-seed-fetril\"\n",
    ")\n",
    "len(failed_runs)\n",
    "reg_fetril.shape\n",
    "noreg_fetril, failed_runs, not_finished_runs = core.get_df_pycil(\"pycil-01.27-new\")\n",
    "len(failed_runs)\n",
    "noreg_fetril.shape\n",
    "noreg_fetril = noreg_fetril[noreg_fetril[\"approach\"] == \"fetril\"]\n",
    "\n",
    "fetril = pd.concat([reg_fetril, noreg_fetril], axis=0)\n",
    "\n",
    "big_task_fetril, failed_runs, not_finished_runs = core.get_df_pycil(\n",
    "    \"pycil-01.28-big_task\"\n",
    ")\n",
    "len(failed_runs)\n",
    "big_task_fetril.shape"
   ]
  },
  {
   "cell_type": "code",
   "execution_count": null,
   "metadata": {},
   "outputs": [],
   "source": [
    "lwf_seed, failed_runs, not_finished_runs = core.get_df_cl(\"01.29\", 8)\n",
    "len(failed_runs)\n",
    "len(not_finished_runs)\n",
    "lwf_seed.shape\n",
    "lwf_other_seeds = lwf_seed[lwf_seed[\"seed\"].isin([6, 8])]"
   ]
  },
  {
   "cell_type": "code",
   "execution_count": null,
   "metadata": {},
   "outputs": [],
   "source": [
    "pivot_table = pd.pivot_table(\n",
    "    finetuning_ewc_resnet[finetuning_ewc_resnet[\"network\"].str.contains(\"resnet\")],\n",
    "    index=[\"approach\", \"is_regularized\"],\n",
    "    columns=[\"dataset\", \"num_tasks\"],\n",
    "    values=\"avg_acc_tag\",\n",
    "    aggfunc=lambda x: len(x) - 3,\n",
    "    # aggfunc=lambda x: f\"{np.mean(x):.2f}±{np.std(x):.2f}\",\n",
    "    # fill_value=0,\n",
    ")\n",
    "pivot_table"
   ]
  },
  {
   "cell_type": "code",
   "execution_count": null,
   "metadata": {},
   "outputs": [],
   "source": [
    "pivot_table = pd.pivot_table(\n",
    "    finetuning_ewc_convnext[\n",
    "        finetuning_ewc_convnext[\"network\"].str.contains(\"convnext\")\n",
    "    ],\n",
    "    index=[\"approach\", \"is_regularized\"],\n",
    "    columns=[\"dataset\", \"num_tasks\"],\n",
    "    values=\"avg_acc_tag\",\n",
    "    aggfunc=lambda x: len(x) - 3,\n",
    "    # aggfunc=list,\n",
    "    # aggfunc=lambda x: f\"{np.mean(x):.2f}±{np.std(x):.2f}\",\n",
    "    # fill_value=0,\n",
    ")\n",
    "pivot_table"
   ]
  },
  {
   "cell_type": "code",
   "execution_count": null,
   "metadata": {},
   "outputs": [],
   "source": [
    "pivot_table = pd.pivot_table(\n",
    "    big_all_met[big_all_met[\"network\"].str.contains(\"resnet\")],\n",
    "    index=[\"approach\", \"is_regularized\"],\n",
    "    columns=[\"dataset\", \"num_tasks\"],\n",
    "    values=\"avg_acc_tag\",\n",
    "    aggfunc=lambda x: len(x) - 3,\n",
    "    # aggfunc=lambda x: f\"{np.mean(x):.2f}±{np.std(x):.2f}\",\n",
    "    # fill_value=0,\n",
    ")\n",
    "pivot_table\n",
    "pivot_table = pd.pivot_table(\n",
    "    big_all_met[big_all_met[\"network\"].str.contains(\"convnext\")],\n",
    "    index=[\"approach\", \"is_regularized\"],\n",
    "    columns=[\"dataset\", \"num_tasks\"],\n",
    "    values=\"avg_acc_tag\",\n",
    "    aggfunc=lambda x: len(x) - 3,\n",
    "    # aggfunc=lambda x: f\"{np.mean(x):.2f}±{np.std(x):.2f}\",\n",
    "    # fill_value=0,\n",
    ")\n",
    "pivot_table"
   ]
  },
  {
   "cell_type": "code",
   "execution_count": null,
   "metadata": {},
   "outputs": [],
   "source": [
    "pivot_table = pd.pivot_table(\n",
    "    lwf_replay[lwf_replay[\"network\"].str.contains(\"resnet\")],\n",
    "    index=[\"approach\", \"is_regularized\"],\n",
    "    columns=[\"dataset\", \"num_tasks\", \"seed\"],\n",
    "    values=\"avg_acc_tag\",\n",
    "    # aggfunc=lambda x: len(x) - 3,\n",
    "    # aggfunc=lambda x: f\"{np.mean(x):.2f}±{np.std(x):.2f}\",\n",
    "    # fill_value=0,\n",
    ")\n",
    "pivot_table\n",
    "pivot_table = pd.pivot_table(\n",
    "    lwf_replay[lwf_replay[\"network\"].str.contains(\"convnext\")],\n",
    "    index=[\"approach\", \"is_regularized\"],\n",
    "    columns=[\"dataset\", \"num_tasks\"],\n",
    "    values=\"avg_acc_tag\",\n",
    "    aggfunc=lambda x: len(x) - 3,\n",
    "    # aggfunc=lambda x: f\"{np.mean(x):.2f}±{np.std(x):.2f}\",\n",
    "    # fill_value=0,\n",
    ")\n",
    "pivot_table"
   ]
  },
  {
   "cell_type": "code",
   "execution_count": null,
   "metadata": {},
   "outputs": [],
   "source": [
    "pivot_table = pd.pivot_table(\n",
    "    df_noreg[df_noreg[\"network\"].str.contains(\"resnet\")],\n",
    "    index=[\"approach\", \"is_regularized\"],\n",
    "    columns=[\"dataset\", \"num_tasks\"],\n",
    "    values=\"avg_acc_tag\",\n",
    "    aggfunc=lambda x: len(x) - 3,\n",
    "    # aggfunc=lambda x: f\"{np.mean(x):.2f}±{np.std(x):.2f}\",\n",
    "    # fill_value=0,\n",
    ")\n",
    "pivot_table\n",
    "pivot_table = pd.pivot_table(\n",
    "    df_noreg[df_noreg[\"network\"].str.contains(\"convnext\")],\n",
    "    index=[\"approach\", \"is_regularized\"],\n",
    "    columns=[\"dataset\", \"num_tasks\"],\n",
    "    values=\"avg_acc_tag\",\n",
    "    aggfunc=lambda x: len(x) - 3,\n",
    "    # aggfunc=lambda x: f\"{np.mean(x):.2f}±{np.std(x):.2f}\",\n",
    "    # fill_value=0,\n",
    ")\n",
    "pivot_table"
   ]
  },
  {
   "cell_type": "code",
   "execution_count": null,
   "metadata": {},
   "outputs": [],
   "source": [
    "pivot_table = pd.pivot_table(\n",
    "    fetril[fetril[\"network\"].str.contains(\"resnet\")],\n",
    "    index=[\"approach\", \"is_regularized\"],\n",
    "    columns=[\"dataset\", \"num_tasks\"],\n",
    "    values=\"avg_acc_tag\",\n",
    "    aggfunc=lambda x: len(x) - 3,\n",
    "    # aggfunc=lambda x: f\"{np.mean(x):.2f}±{np.std(x):.2f}\",\n",
    "    # fill_value=0,\n",
    ")\n",
    "pivot_table\n",
    "pivot_table = pd.pivot_table(\n",
    "    fetril[fetril[\"network\"].str.contains(\"convnext\")],\n",
    "    index=[\"approach\", \"is_regularized\"],\n",
    "    columns=[\"dataset\", \"num_tasks\"],\n",
    "    values=\"avg_acc_tag\",\n",
    "    aggfunc=lambda x: len(x) - 3,\n",
    "    # aggfunc=lambda x: f\"{np.mean(x):.2f}±{np.std(x):.2f}\",\n",
    "    # fill_value=0,\n",
    ")\n",
    "pivot_table"
   ]
  },
  {
   "cell_type": "code",
   "execution_count": null,
   "metadata": {},
   "outputs": [],
   "source": [
    "pivot_table = pd.pivot_table(\n",
    "    big_task_fetril[big_task_fetril[\"network\"].str.contains(\"resnet\")],\n",
    "    index=[\"approach\", \"is_regularized\"],\n",
    "    columns=[\"dataset\", \"num_tasks\"],\n",
    "    values=\"avg_acc_tag\",\n",
    "    aggfunc=lambda x: len(x) - 3,\n",
    "    # aggfunc=lambda x: f\"{np.mean(x):.2f}±{np.std(x):.2f}\",\n",
    "    # fill_value=0,\n",
    ")\n",
    "pivot_table\n",
    "pivot_table = pd.pivot_table(\n",
    "    big_task_fetril[big_task_fetril[\"network\"].str.contains(\"convnext\")],\n",
    "    index=[\"approach\", \"is_regularized\"],\n",
    "    columns=[\"dataset\", \"num_tasks\"],\n",
    "    values=\"avg_acc_tag\",\n",
    "    aggfunc=lambda x: len(x) - 3,\n",
    "    # aggfunc=lambda x: f\"{np.mean(x):.2f}±{np.std(x):.2f}\",\n",
    "    # fill_value=0,\n",
    ")\n",
    "pivot_table"
   ]
  },
  {
   "cell_type": "code",
   "execution_count": null,
   "metadata": {},
   "outputs": [],
   "source": []
  },
  {
   "cell_type": "code",
   "execution_count": null,
   "metadata": {},
   "outputs": [],
   "source": [
    "allinone = pd.concat(\n",
    "    [\n",
    "        finetuning_ewc_resnet,\n",
    "        finetuning_ewc_convnext,\n",
    "        big_all_met,\n",
    "        lwf_replay,\n",
    "        fetril,\n",
    "        big_task_fetril,\n",
    "        df_noreg,\n",
    "        lwf_other_seeds,\n",
    "    ],\n",
    "    axis=0,\n",
    ")\n",
    "allinone[\"dataset\"] = allinone[\"dataset\"].replace(\n",
    "    {\n",
    "        \"cifar100_fixed\": \"cifar100\",\n",
    "        \"imagenet_subset_kaggle\": \"imagenet100\",\n",
    "    }\n",
    ")"
   ]
  },
  {
   "cell_type": "code",
   "execution_count": 388,
   "metadata": {},
   "outputs": [],
   "source": [
    "# allinone.to_csv(\"allinone.csv\")"
   ]
  },
  {
   "cell_type": "code",
   "execution_count": 389,
   "metadata": {},
   "outputs": [],
   "source": [
    "big_all = allinone[allinone[\"is_big_task\"]]\n",
    "no_big_all = allinone[~allinone[\"is_big_task\"]]"
   ]
  },
  {
   "cell_type": "code",
   "execution_count": null,
   "metadata": {},
   "outputs": [],
   "source": [
    "resnet = pd.pivot_table(\n",
    "    no_big_all[no_big_all[\"network\"].str.contains(\"resnet\")],\n",
    "    index=[\"approach\", \"is_regularized\"],\n",
    "    columns=[\"dataset\", \"num_tasks\"],\n",
    "    values=\"avg_acc_tag\",\n",
    "    aggfunc=lambda x: len(x) - 3,\n",
    "    # aggfunc=lambda x: f\"{np.mean(x):.2f}±{np.std(x):.2f}\",\n",
    "    # fill_value=0,\n",
    ")\n",
    "resnet\n",
    "convnext = pd.pivot_table(\n",
    "    no_big_all[no_big_all[\"network\"].str.contains(\"convnext\")],\n",
    "    index=[\"approach\", \"is_regularized\"],\n",
    "    columns=[\"dataset\", \"num_tasks\"],\n",
    "    values=\"avg_acc_tag\",\n",
    "    aggfunc=lambda x: len(x) - 3,\n",
    "    # aggfunc=lambda x: f\"{np.mean(x):.2f}±{np.std(x):.2f}\",\n",
    "    # fill_value=0,\n",
    ")\n",
    "convnext"
   ]
  },
  {
   "cell_type": "code",
   "execution_count": null,
   "metadata": {},
   "outputs": [],
   "source": [
    "pivot_table = pd.pivot_table(\n",
    "    big_all[big_all[\"network\"].str.contains(\"resnet\")],\n",
    "    index=[\"approach\", \"is_regularized\"],\n",
    "    columns=[\"dataset\"],\n",
    "    values=\"avg_acc_tag\",\n",
    "    # aggfunc=lambda x: len(x) - 3,\n",
    "    aggfunc=lambda x: f\"{np.mean(x):.2f}±{np.std(x):.2f}\",\n",
    "    # fill_value=0,\n",
    ")\n",
    "pivot_table\n",
    "pivot_table = pd.pivot_table(\n",
    "    big_all[big_all[\"network\"].str.contains(\"convnext\")],\n",
    "    index=[\"approach\", \"is_regularized\"],\n",
    "    columns=[\"dataset\"],\n",
    "    values=\"avg_acc_tag\",\n",
    "    # aggfunc=lambda x: len(x) - 3,\n",
    "    aggfunc=lambda x: f\"{np.mean(x):.2f}±{np.std(x):.2f}\",\n",
    "    # fill_value=0,\n",
    ")\n",
    "pivot_table"
   ]
  },
  {
   "cell_type": "code",
   "execution_count": 335,
   "metadata": {},
   "outputs": [],
   "source": []
  },
  {
   "cell_type": "code",
   "execution_count": 46,
   "metadata": {},
   "outputs": [],
   "source": []
  },
  {
   "cell_type": "code",
   "execution_count": null,
   "metadata": {},
   "outputs": [],
   "source": [
    "resnet = pd.pivot_table(\n",
    "    no_big_all[no_big_all[\"network\"].str.contains(\"resnet\")],\n",
    "    index=[\n",
    "        \"approach\",\n",
    "        \"is_regularized\",\n",
    "    ],\n",
    "    columns=[\"dataset\", \"num_tasks\", \"seed\"],\n",
    "    values=\"avg_acc_tag\",\n",
    "    # aggfunc=lambda x: len(x) - 3,\n",
    "    # aggfunc=lambda x: f\"{np.mean(x):.2f}±{np.std(x):.2f}\",\n",
    "    # fill_value=0,\n",
    ")\n",
    "resnet\n",
    "convnext = pd.pivot_table(\n",
    "    no_big_all[no_big_all[\"network\"].str.contains(\"convnext\")],\n",
    "    index=[\"approach\", \"is_regularized\"],\n",
    "    columns=[\"dataset\", \"num_tasks\"],\n",
    "    values=\"avg_acc_tag\",\n",
    "    # aggfunc=lambda x: len(x) - 3,\n",
    "    aggfunc=lambda x: f\"{np.mean(x):.2f}±{np.std(x):.2f}\",\n",
    "    # fill_value=0,\n",
    ")\n",
    "convnext"
   ]
  },
  {
   "cell_type": "code",
   "execution_count": null,
   "metadata": {},
   "outputs": [],
   "source": []
  },
  {
   "cell_type": "code",
   "execution_count": null,
   "metadata": {},
   "outputs": [],
   "source": []
  },
  {
   "cell_type": "code",
   "execution_count": 290,
   "metadata": {},
   "outputs": [],
   "source": [
    "def seed_wise_differcence(df):\n",
    "\n",
    "    avg_acc = (\n",
    "        df.groupby([\"approach\", \"dataset\", \"num_tasks\", \"seed\", \"is_regularized\"])[\n",
    "            \"avg_acc_tag\"\n",
    "        ]\n",
    "        .agg(lambda x: x)\n",
    "        .unstack()\n",
    "    )\n",
    "    avg_acc[\"difference\"] = avg_acc[True] - avg_acc[False]\n",
    "    avg_acc.reset_index(inplace=True)\n",
    "    new_rows = avg_acc[\n",
    "        [\"approach\", \"dataset\", \"num_tasks\", \"seed\", \"difference\"]\n",
    "    ].copy()\n",
    "    new_rows[\"is_regularized\"] = \"agg\"  # Set is_regularized to 'add'\n",
    "    new_rows[\"avg_acc_tag\"] = new_rows[\n",
    "        \"difference\"\n",
    "    ]  # Set avg_acc_tag to the difference\n",
    "    new_rows = new_rows[\n",
    "        [\"approach\", \"is_regularized\", \"dataset\", \"num_tasks\", \"avg_acc_tag\", \"seed\"]\n",
    "    ]\n",
    "    df_final = pd.concat([df, new_rows], ignore_index=True)\n",
    "    return df_final"
   ]
  },
  {
   "cell_type": "code",
   "execution_count": 367,
   "metadata": {},
   "outputs": [],
   "source": [
    "big_all = allinone[allinone[\"is_big_task\"]]\n",
    "no_big_all = allinone[~allinone[\"is_big_task\"]]\n",
    "\n",
    "convnext_nobig = core.seed_wise_differcence(\n",
    "    no_big_all[no_big_all[\"network\"].str.contains(\"convnext\")]\n",
    ")\n",
    "resnet_nobig = core.seed_wise_differcence(\n",
    "    no_big_all[no_big_all[\"network\"].str.contains(\"resnet\")]\n",
    ")\n",
    "convnext_big = core.seed_wise_differcence(\n",
    "    big_all[big_all[\"network\"].str.contains(\"convnext\")]\n",
    ")\n",
    "resnet_big = core.seed_wise_differcence(\n",
    "    big_all[big_all[\"network\"].str.contains(\"resnet\")]\n",
    ")"
   ]
  },
  {
   "cell_type": "code",
   "execution_count": null,
   "metadata": {},
   "outputs": [],
   "source": [
    "x = pd.pivot_table(\n",
    "    convnext_nobig,\n",
    "    index=[\n",
    "        \"approach\",\n",
    "        \"is_regularized\",\n",
    "    ],\n",
    "    columns=[\"dataset\", \"num_tasks\"],\n",
    "    values=\"avg_acc_tag\",\n",
    "    aggfunc=lambda x: len(x) - 3,\n",
    "    # aggfunc=lambda x: f\"{np.mean(x):.2f}±{np.std(x):.2f}\",\n",
    "    # aggfunc=lambda x: f\"${np.mean(x):.2f}$ \\\\tiny{{$\\pm{np.std(x):.2f}$}}\",\n",
    "    # aggfunc=lambda x: list(x),\n",
    "    # fill_value=0,\n",
    ")\n",
    "# print(x.to_latex())\n",
    "x"
   ]
  },
  {
   "cell_type": "code",
   "execution_count": null,
   "metadata": {},
   "outputs": [],
   "source": [
    "x = pd.pivot_table(\n",
    "    resnet_big,\n",
    "    index=[\n",
    "        \"approach\",\n",
    "        \"is_regularized\",\n",
    "    ],\n",
    "    columns=[\"dataset\"],\n",
    "    values=\"avg_acc_tag\",\n",
    "    # aggfunc=lambda x: len(x) - 3,\n",
    "    # aggfunc=lambda x: f\"{np.mean(x):.2f}±{np.std(x):.2f}\",\n",
    "    aggfunc=lambda x: f\"${np.mean(x):.2f}$ \\\\tiny{{$\\pm{np.std(x):.2f}$}}\",\n",
    "    # aggfunc=lambda x: list(x),\n",
    "    # fill_value=0,\n",
    ")\n",
    "print(x.to_latex())\n",
    "x"
   ]
  },
  {
   "cell_type": "code",
   "execution_count": null,
   "metadata": {},
   "outputs": [],
   "source": [
    "pd.pivot_table(\n",
    "    convnext_nobig,\n",
    "    index=[\n",
    "        \"approach\",\n",
    "        \"is_regularized\",\n",
    "    ],\n",
    "    columns=[\"dataset\", \"num_tasks\"],\n",
    "    values=\"avg_acc_tag\",\n",
    "    # aggfunc=lambda x: len(x) - 3,\n",
    "    aggfunc=lambda x: f\"{np.mean(x):.2f}±{np.std(x):.2f}\",\n",
    "    # fill_value=0,\n",
    ")"
   ]
  },
  {
   "cell_type": "code",
   "execution_count": null,
   "metadata": {},
   "outputs": [],
   "source": [
    "pd.pivot_table(\n",
    "    resnet_big,\n",
    "    index=[\n",
    "        \"approach\",\n",
    "        \"is_regularized\",\n",
    "    ],\n",
    "    columns=[\"dataset\"],\n",
    "    values=\"avg_acc_tag\",\n",
    "    # aggfunc=lambda x: len(x) - 3,\n",
    "    aggfunc=lambda x: f\"{np.mean(x):.2f}±{np.std(x):.2f}\",\n",
    "    # fill_value=0,\n",
    ")"
   ]
  },
  {
   "cell_type": "code",
   "execution_count": null,
   "metadata": {},
   "outputs": [],
   "source": [
    "pd.pivot_table(\n",
    "    convnext_big,\n",
    "    index=[\n",
    "        \"approach\",\n",
    "        \"is_regularized\",\n",
    "    ],\n",
    "    columns=[\"dataset\"],\n",
    "    values=\"avg_acc_tag\",\n",
    "    # aggfunc=lambda x: len(x) - 3,\n",
    "    aggfunc=lambda x: f\"{np.mean(x):.2f}±{np.std(x):.2f}\",\n",
    "    # fill_value=0,\n",
    ")"
   ]
  },
  {
   "cell_type": "code",
   "execution_count": null,
   "metadata": {},
   "outputs": [],
   "source": []
  }
 ],
 "metadata": {
  "kernelspec": {
   "display_name": ".venv",
   "language": "python",
   "name": "python3"
  },
  "language_info": {
   "codemirror_mode": {
    "name": "ipython",
    "version": 3
   },
   "file_extension": ".py",
   "mimetype": "text/x-python",
   "name": "python",
   "nbconvert_exporter": "python",
   "pygments_lexer": "ipython3",
   "version": "3.10.15"
  }
 },
 "nbformat": 4,
 "nbformat_minor": 2
}
