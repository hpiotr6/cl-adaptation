{
 "cells": [
  {
   "cell_type": "code",
   "execution_count": 1,
   "metadata": {},
   "outputs": [
    {
     "name": "stdout",
     "output_type": "stream",
     "text": [
      "/Users/piotr/Documents/studia/mgr/CVLab/cl-teacher-adaptation\n"
     ]
    },
    {
     "name": "stderr",
     "output_type": "stream",
     "text": [
      "/Users/piotr/Documents/studia/mgr/CVLab/cl-teacher-adaptation/.venv/lib/python3.10/site-packages/IPython/core/magics/osm.py:417: UserWarning: This is now an optional IPython functionality, setting dhist requires you to install the `pickleshare` library.\n",
      "  self.shell.db['dhist'] = compress_dhist(dhist)[-100:]\n"
     ]
    }
   ],
   "source": [
    "%load_ext autoreload\n",
    "%autoreload 2\n",
    "%cd .."
   ]
  },
  {
   "cell_type": "code",
   "execution_count": 2,
   "metadata": {},
   "outputs": [],
   "source": [
    "from pathlib import Path\n",
    "\n",
    "p = Path(\"models/cifar100_5/resnet34/\")\n",
    "expname_path = {}\n",
    "for dir in p.iterdir():\n",
    "    for i in dir.iterdir():\n",
    "        path = i.readlink()\n",
    "        exp_name = \"_\".join(i.parts[2:])\n",
    "        expname_path[exp_name] = path"
   ]
  },
  {
   "cell_type": "code",
   "execution_count": 3,
   "metadata": {},
   "outputs": [],
   "source": [
    "resnet_finetuning = {\n",
    "    \"resnet34_finetuning_reg\": \"results/2024/04.24/13-35-10/0/cifar100_fixed_finetuning\",\n",
    "    \"resnet34_finetuning_noreg\": \"results/2024/04.17/18-13-25/0/cifar100_fixed_finetuning_final_checkpoint\",\n",
    "}"
   ]
  },
  {
   "cell_type": "code",
   "execution_count": 5,
   "metadata": {},
   "outputs": [],
   "source": [
    "from collections import defaultdict\n",
    "from matplotlib import pyplot as plt\n",
    "import numpy as np\n",
    "import torch\n",
    "from tqdm import tqdm\n",
    "\n",
    "from src.analysis import core\n",
    "from src.analysis.svd import torch_calculate_eigens_directclr\n",
    "import re\n",
    "\n",
    "get_digits = lambda str: int(re.sub(r\"\\D\", \"\", str))\n",
    "DEVICE = \"cpu\"\n",
    "NUM_CLASSES = 20\n",
    "\n",
    "\n",
    "def get_activs(exp_name, path):\n",
    "    root = Path(\"activations\")\n",
    "    save_path = root.joinpath(*exp_name.split(\"_\"))\n",
    "    save_path.mkdir(exist_ok=True, parents=True)\n",
    "\n",
    "    train_tasks_data = defaultdict(dict)\n",
    "    test_tasks_data = defaultdict(dict)\n",
    "    cfg = core.create_cfg(path)\n",
    "    cfg.data.num_workers = 8\n",
    "    data_factory = core.DataFactory(cfg)\n",
    "    model_factory = core.ModelFactory(cfg, path, device=DEVICE)\n",
    "    for task_idx, ckpt in tqdm(enumerate(sorted(model_factory.ckpts))):\n",
    "        model = model_factory.create_model(task=task_idx, num_classes=NUM_CLASSES)\n",
    "        assert task_idx == get_digits(ckpt.name)\n",
    "        train_loaders, _, test_loaders, _ = data_factory[: task_idx + 1]\n",
    "        for data_idx, (train_loader, test_loader) in enumerate(\n",
    "            zip(train_loaders, test_loaders)\n",
    "        ):\n",
    "            train_outs = core.get_activations(model.model, train_loader, device=DEVICE)\n",
    "            test_outs = core.get_activations(model.model, test_loader, device=DEVICE)\n",
    "\n",
    "            train_tasks_data[task_idx][data_idx] = train_outs\n",
    "            test_tasks_data[task_idx][data_idx] = test_outs\n",
    "    torch.save(train_tasks_data, save_path / \"train.pth\")\n",
    "    torch.save(test_tasks_data, save_path / \"test.pth\")\n",
    "    return train_tasks_data, test_tasks_data"
   ]
  },
  {
   "cell_type": "code",
   "execution_count": 6,
   "metadata": {},
   "outputs": [],
   "source": [
    "root = Path(\"activations\")\n",
    "save_path = root.joinpath(*exp_name.split(\"_\"))"
   ]
  },
  {
   "cell_type": "code",
   "execution_count": 7,
   "metadata": {},
   "outputs": [
    {
     "name": "stdout",
     "output_type": "stream",
     "text": [
      "Files already downloaded and verified\n",
      "Files already downloaded and verified\n"
     ]
    },
    {
     "name": "stderr",
     "output_type": "stream",
     "text": [
      "0it [00:00, ?it/s]"
     ]
    },
    {
     "name": "stdout",
     "output_type": "stream",
     "text": [
      "<All keys matched successfully>\n"
     ]
    },
    {
     "name": "stderr",
     "output_type": "stream",
     "text": [
      "100%|██████████| 2/2 [00:26<00:00, 13.11s/it]\n",
      "100%|██████████| 16/16 [01:27<00:00,  5.44s/it]\n",
      "0it [01:53, ?it/s]\n"
     ]
    }
   ],
   "source": [
    "for e_name, path in resnet_finetuning.items():\n",
    "    tasks_data = get_activs(exp_name=e_name, path=path)\n",
    "    break"
   ]
  },
  {
   "cell_type": "code",
   "execution_count": null,
   "metadata": {},
   "outputs": [],
   "source": []
  }
 ],
 "metadata": {
  "kernelspec": {
   "display_name": ".venv",
   "language": "python",
   "name": "python3"
  },
  "language_info": {
   "codemirror_mode": {
    "name": "ipython",
    "version": 3
   },
   "file_extension": ".py",
   "mimetype": "text/x-python",
   "name": "python",
   "nbconvert_exporter": "python",
   "pygments_lexer": "ipython3",
   "version": "3.10.12"
  }
 },
 "nbformat": 4,
 "nbformat_minor": 2
}
