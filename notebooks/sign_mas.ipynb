{
 "cells": [
  {
   "cell_type": "code",
   "execution_count": 33,
   "id": "9aa61afc-84f3-46a2-8550-5e27fb46d957",
   "metadata": {},
   "outputs": [
    {
     "name": "stdout",
     "output_type": "stream",
     "text": [
      "The autoreload extension is already loaded. To reload it, use:\n",
      "  %reload_ext autoreload\n"
     ]
    }
   ],
   "source": [
    "%load_ext autoreload\n",
    "%autoreload 2"
   ]
  },
  {
   "cell_type": "code",
   "execution_count": 2,
   "id": "cf076621",
   "metadata": {},
   "outputs": [],
   "source": [
    "from collections import defaultdict\n",
    "from datetime import date\n",
    "from functools import partial\n",
    "import os\n",
    "from pathlib import Path\n",
    "from pprint import pprint\n",
    "from typing import Any\n",
    "import torch\n",
    "\n",
    "from src.sign_visualizer.core import (\n",
    "    choose_task,\n",
    "    get_activations,\n",
    "    load_and_clean,\n",
    "    load_extractor,\n",
    ")\n",
    "from src.sign_visualizer.dataset_interface import (\n",
    "    ContinualDataset,\n",
    "    ContinualDatasetConfig,\n",
    ")\n",
    "\n",
    "\n",
    "def is_sign_changed(output_1: torch.Tensor, output_2: torch.Tensor):\n",
    "    return (output_1.mean(0) * output_2.mean(0)) < 0\n",
    "\n",
    "\n",
    "def is_negative(output_1: torch.Tensor):\n",
    "    return output_1.mean(0) < 0\n",
    "\n",
    "\n",
    "def save(container: Any, path: str) -> None:\n",
    "    torch.save(container, path)\n",
    "\n",
    "\n",
    "cifar_10_paths = [\n",
    "    \"results/2024/03.14/cifar10_fixed_finetuning_fc$:var_0.64:cov_12.8\",\n",
    "    \"results/2024/03.14/cifar10_fixed_finetuning_noreg\",\n",
    "    \"results/2024/03.21/cifar10_fixed_finetuning\",\n",
    "    \"results/2024/03.22/cifar10_fixed_lwf\",\n",
    "    \"results/2024/03.14/cifar10_fixed_finetuning_.*after_relu|fc$:var_0.64:cov_12.8\",\n",
    "]\n",
    "cifar_100_paths = [\n",
    "    # \"results/2024/03.22/cifar100_fixed_finetuning\",\n",
    "    # \"results/2024/03.21/cifar100_fixed_finetuning\",\n",
    "    # \"results/2024/03.21/cifar100_fixed_lwf\",\n",
    "    # # \"results/2024/03.07/cifar100_fixed_finetuning_fc\",\n",
    "    # \"results/2024/03.21/cifar100_fixed_ewc\",\n",
    "    \"results/2024/03.26/cifar100_fixed_finetuning_reg_deeper\",\n",
    "    \"results/2024/03.26/cifar100_fixed_finetuning_reg_fc\",\n",
    "]"
   ]
  },
  {
   "cell_type": "code",
   "execution_count": 3,
   "id": "5df6b6c2",
   "metadata": {},
   "outputs": [
    {
     "name": "stdout",
     "output_type": "stream",
     "text": [
      "Files already downloaded and verified\n",
      "Files already downloaded and verified\n",
      "_IncompatibleKeys(missing_keys=[], unexpected_keys=['heads.0.weight', 'heads.0.bias'])\n"
     ]
    },
    {
     "name": "stderr",
     "output_type": "stream",
     "text": [
      "100%|██████████| 15/15 [00:08<00:00,  1.72it/s]\n"
     ]
    },
    {
     "name": "stdout",
     "output_type": "stream",
     "text": [
      "_IncompatibleKeys(missing_keys=[], unexpected_keys=['heads.0.weight', 'heads.0.bias', 'heads.1.weight', 'heads.1.bias'])\n"
     ]
    },
    {
     "name": "stderr",
     "output_type": "stream",
     "text": [
      "100%|██████████| 15/15 [00:01<00:00,  7.87it/s]\n"
     ]
    },
    {
     "name": "stdout",
     "output_type": "stream",
     "text": [
      "_IncompatibleKeys(missing_keys=[], unexpected_keys=['heads.0.weight', 'heads.0.bias', 'heads.1.weight', 'heads.1.bias', 'heads.2.weight', 'heads.2.bias'])\n"
     ]
    },
    {
     "name": "stderr",
     "output_type": "stream",
     "text": [
      "100%|██████████| 15/15 [00:01<00:00,  8.10it/s]\n"
     ]
    },
    {
     "name": "stdout",
     "output_type": "stream",
     "text": [
      "_IncompatibleKeys(missing_keys=[], unexpected_keys=['heads.0.weight', 'heads.0.bias', 'heads.1.weight', 'heads.1.bias', 'heads.2.weight', 'heads.2.bias', 'heads.3.weight', 'heads.3.bias'])\n"
     ]
    },
    {
     "name": "stderr",
     "output_type": "stream",
     "text": [
      "100%|██████████| 15/15 [00:01<00:00,  8.33it/s]\n"
     ]
    },
    {
     "name": "stdout",
     "output_type": "stream",
     "text": [
      "_IncompatibleKeys(missing_keys=[], unexpected_keys=['heads.0.weight', 'heads.0.bias', 'heads.1.weight', 'heads.1.bias', 'heads.2.weight', 'heads.2.bias', 'heads.3.weight', 'heads.3.bias', 'heads.4.weight', 'heads.4.bias'])\n"
     ]
    },
    {
     "name": "stderr",
     "output_type": "stream",
     "text": [
      "100%|██████████| 15/15 [00:01<00:00,  7.81it/s]\n"
     ]
    },
    {
     "name": "stdout",
     "output_type": "stream",
     "text": [
      "_IncompatibleKeys(missing_keys=[], unexpected_keys=['heads.0.weight', 'heads.0.bias', 'heads.1.weight', 'heads.1.bias'])\n"
     ]
    },
    {
     "name": "stderr",
     "output_type": "stream",
     "text": [
      "100%|██████████| 15/15 [00:01<00:00,  8.66it/s]\n"
     ]
    },
    {
     "name": "stdout",
     "output_type": "stream",
     "text": [
      "_IncompatibleKeys(missing_keys=[], unexpected_keys=['heads.0.weight', 'heads.0.bias', 'heads.1.weight', 'heads.1.bias', 'heads.2.weight', 'heads.2.bias'])\n"
     ]
    },
    {
     "name": "stderr",
     "output_type": "stream",
     "text": [
      "100%|██████████| 15/15 [00:01<00:00,  8.98it/s]\n"
     ]
    },
    {
     "name": "stdout",
     "output_type": "stream",
     "text": [
      "_IncompatibleKeys(missing_keys=[], unexpected_keys=['heads.0.weight', 'heads.0.bias', 'heads.1.weight', 'heads.1.bias', 'heads.2.weight', 'heads.2.bias', 'heads.3.weight', 'heads.3.bias'])\n"
     ]
    },
    {
     "name": "stderr",
     "output_type": "stream",
     "text": [
      "100%|██████████| 15/15 [00:01<00:00,  9.11it/s]\n"
     ]
    },
    {
     "name": "stdout",
     "output_type": "stream",
     "text": [
      "_IncompatibleKeys(missing_keys=[], unexpected_keys=['heads.0.weight', 'heads.0.bias', 'heads.1.weight', 'heads.1.bias', 'heads.2.weight', 'heads.2.bias', 'heads.3.weight', 'heads.3.bias', 'heads.4.weight', 'heads.4.bias'])\n"
     ]
    },
    {
     "name": "stderr",
     "output_type": "stream",
     "text": [
      "100%|██████████| 15/15 [00:02<00:00,  6.62it/s]\n"
     ]
    },
    {
     "name": "stdout",
     "output_type": "stream",
     "text": [
      "_IncompatibleKeys(missing_keys=[], unexpected_keys=['heads.0.weight', 'heads.0.bias', 'heads.1.weight', 'heads.1.bias', 'heads.2.weight', 'heads.2.bias'])\n"
     ]
    },
    {
     "name": "stderr",
     "output_type": "stream",
     "text": [
      "100%|██████████| 15/15 [00:02<00:00,  6.63it/s]\n"
     ]
    },
    {
     "name": "stdout",
     "output_type": "stream",
     "text": [
      "_IncompatibleKeys(missing_keys=[], unexpected_keys=['heads.0.weight', 'heads.0.bias', 'heads.1.weight', 'heads.1.bias', 'heads.2.weight', 'heads.2.bias', 'heads.3.weight', 'heads.3.bias'])\n"
     ]
    },
    {
     "name": "stderr",
     "output_type": "stream",
     "text": [
      "100%|██████████| 15/15 [00:01<00:00,  8.25it/s]\n"
     ]
    },
    {
     "name": "stdout",
     "output_type": "stream",
     "text": [
      "_IncompatibleKeys(missing_keys=[], unexpected_keys=['heads.0.weight', 'heads.0.bias', 'heads.1.weight', 'heads.1.bias', 'heads.2.weight', 'heads.2.bias', 'heads.3.weight', 'heads.3.bias', 'heads.4.weight', 'heads.4.bias'])\n"
     ]
    },
    {
     "name": "stderr",
     "output_type": "stream",
     "text": [
      "100%|██████████| 15/15 [00:01<00:00,  7.92it/s]\n"
     ]
    },
    {
     "name": "stdout",
     "output_type": "stream",
     "text": [
      "_IncompatibleKeys(missing_keys=[], unexpected_keys=['heads.0.weight', 'heads.0.bias', 'heads.1.weight', 'heads.1.bias', 'heads.2.weight', 'heads.2.bias', 'heads.3.weight', 'heads.3.bias'])\n"
     ]
    },
    {
     "name": "stderr",
     "output_type": "stream",
     "text": [
      "100%|██████████| 15/15 [00:01<00:00,  8.29it/s]\n"
     ]
    },
    {
     "name": "stdout",
     "output_type": "stream",
     "text": [
      "_IncompatibleKeys(missing_keys=[], unexpected_keys=['heads.0.weight', 'heads.0.bias', 'heads.1.weight', 'heads.1.bias', 'heads.2.weight', 'heads.2.bias', 'heads.3.weight', 'heads.3.bias', 'heads.4.weight', 'heads.4.bias'])\n"
     ]
    },
    {
     "name": "stderr",
     "output_type": "stream",
     "text": [
      "100%|██████████| 15/15 [00:01<00:00, 10.77it/s]\n"
     ]
    },
    {
     "name": "stdout",
     "output_type": "stream",
     "text": [
      "_IncompatibleKeys(missing_keys=[], unexpected_keys=['heads.0.weight', 'heads.0.bias', 'heads.1.weight', 'heads.1.bias', 'heads.2.weight', 'heads.2.bias', 'heads.3.weight', 'heads.3.bias', 'heads.4.weight', 'heads.4.bias'])\n"
     ]
    },
    {
     "name": "stderr",
     "output_type": "stream",
     "text": [
      "100%|██████████| 15/15 [00:01<00:00,  8.12it/s]\n"
     ]
    },
    {
     "name": "stdout",
     "output_type": "stream",
     "text": [
      "{0: [tensor([0.0000, 0.0000, 0.0000, 0.0000, 0.0000, 0.0000, 0.0000, 0.0000, 0.0000,\n",
      "        0.0000, 0.0000, 0.0000, 0.0000, 0.0000, 0.0000, 0.0000, 0.0000, 0.0085,\n",
      "        0.0000, 0.0000]),\n",
      "     tensor([0., 0., 0., 0., 0., 0., 0., 0., 0., 0., 0., 0., 0., 0., 0., 0., 0., 0., 0., 0.]),\n",
      "     tensor([0., 0., 0., 0., 0., 0., 0., 0., 0., 0., 0., 0., 0., 0., 0., 0., 0., 0., 0., 0.]),\n",
      "     tensor([0., 0., 0., 0., 0., 0., 0., 0., 0., 0., 0., 0., 0., 0., 0., 0., 0., 0., 0., 0.])],\n",
      " 1: [tensor([0., 0., 0., 0., 0., 0., 0., 0., 0., 0., 0., 0., 0., 0., 0., 0., 0., 0., 0., 0.]),\n",
      "     tensor([0., 0., 0., 0., 0., 0., 0., 0., 0., 0., 0., 0., 0., 0., 0., 0., 0., 0., 0., 0.]),\n",
      "     tensor([0.0000, 0.0000, 0.0000, 0.0000, 0.0000, 0.0000, 0.0000, 0.0000, 0.0000,\n",
      "        0.0000, 0.0000, 0.0000, 0.0000, 0.0025, 0.0000, 0.0000, 0.0000, 0.0000,\n",
      "        0.0000, 0.0000])],\n",
      " 2: [tensor([0.0000, 0.0000, 0.0000, 0.0000, 0.0000, 0.0000, 0.0000, 0.0044, 0.0000,\n",
      "        0.0000, 0.0000, 0.0000, 0.0038, 0.0000, 0.0053, 0.0000, 0.0169, 0.0127,\n",
      "        0.0040, 0.0000]),\n",
      "     tensor([0.0000, 0.0000, 0.0000, 0.0000, 0.0000, 0.0000, 0.0000, 0.0050, 0.0000,\n",
      "        0.0000, 0.0000, 0.0000, 0.0131, 0.0000, 0.0053, 0.0000, 0.0169, 0.0127,\n",
      "        0.0090, 0.0000])],\n",
      " 3: [tensor([0.0067, 0.0000, 0.0000, 0.0000, 0.0000, 0.0000, 0.0027, 0.0000, 0.0019,\n",
      "        0.0000, 0.0000, 0.0000, 0.0000, 0.0000, 0.0000, 0.0000, 0.0000, 0.0057,\n",
      "        0.0000, 0.0000])],\n",
      " 4: []}\n",
      "Files already downloaded and verified\n",
      "Files already downloaded and verified\n",
      "_IncompatibleKeys(missing_keys=[], unexpected_keys=['heads.0.weight', 'heads.0.bias'])\n"
     ]
    },
    {
     "name": "stderr",
     "output_type": "stream",
     "text": [
      "100%|██████████| 15/15 [00:01<00:00,  8.06it/s]\n"
     ]
    },
    {
     "name": "stdout",
     "output_type": "stream",
     "text": [
      "_IncompatibleKeys(missing_keys=[], unexpected_keys=['heads.0.weight', 'heads.0.bias', 'heads.1.weight', 'heads.1.bias'])\n"
     ]
    },
    {
     "name": "stderr",
     "output_type": "stream",
     "text": [
      "100%|██████████| 15/15 [00:01<00:00,  8.26it/s]\n"
     ]
    },
    {
     "name": "stdout",
     "output_type": "stream",
     "text": [
      "_IncompatibleKeys(missing_keys=[], unexpected_keys=['heads.0.weight', 'heads.0.bias', 'heads.1.weight', 'heads.1.bias', 'heads.2.weight', 'heads.2.bias'])\n"
     ]
    },
    {
     "name": "stderr",
     "output_type": "stream",
     "text": [
      "100%|██████████| 15/15 [00:01<00:00, 10.18it/s]\n"
     ]
    },
    {
     "name": "stdout",
     "output_type": "stream",
     "text": [
      "_IncompatibleKeys(missing_keys=[], unexpected_keys=['heads.0.weight', 'heads.0.bias', 'heads.1.weight', 'heads.1.bias', 'heads.2.weight', 'heads.2.bias', 'heads.3.weight', 'heads.3.bias'])\n"
     ]
    },
    {
     "name": "stderr",
     "output_type": "stream",
     "text": [
      "100%|██████████| 15/15 [00:01<00:00,  7.89it/s]\n"
     ]
    },
    {
     "name": "stdout",
     "output_type": "stream",
     "text": [
      "_IncompatibleKeys(missing_keys=[], unexpected_keys=['heads.0.weight', 'heads.0.bias', 'heads.1.weight', 'heads.1.bias', 'heads.2.weight', 'heads.2.bias', 'heads.3.weight', 'heads.3.bias', 'heads.4.weight', 'heads.4.bias'])\n"
     ]
    },
    {
     "name": "stderr",
     "output_type": "stream",
     "text": [
      "100%|██████████| 15/15 [00:01<00:00,  7.99it/s]\n"
     ]
    },
    {
     "name": "stdout",
     "output_type": "stream",
     "text": [
      "_IncompatibleKeys(missing_keys=[], unexpected_keys=['heads.0.weight', 'heads.0.bias', 'heads.1.weight', 'heads.1.bias'])\n"
     ]
    },
    {
     "name": "stderr",
     "output_type": "stream",
     "text": [
      "100%|██████████| 15/15 [00:01<00:00,  8.10it/s]\n"
     ]
    },
    {
     "name": "stdout",
     "output_type": "stream",
     "text": [
      "_IncompatibleKeys(missing_keys=[], unexpected_keys=['heads.0.weight', 'heads.0.bias', 'heads.1.weight', 'heads.1.bias', 'heads.2.weight', 'heads.2.bias'])\n"
     ]
    },
    {
     "name": "stderr",
     "output_type": "stream",
     "text": [
      "100%|██████████| 15/15 [00:01<00:00,  7.96it/s]\n"
     ]
    },
    {
     "name": "stdout",
     "output_type": "stream",
     "text": [
      "_IncompatibleKeys(missing_keys=[], unexpected_keys=['heads.0.weight', 'heads.0.bias', 'heads.1.weight', 'heads.1.bias', 'heads.2.weight', 'heads.2.bias', 'heads.3.weight', 'heads.3.bias'])\n"
     ]
    },
    {
     "name": "stderr",
     "output_type": "stream",
     "text": [
      "100%|██████████| 15/15 [00:01<00:00,  9.22it/s]\n"
     ]
    },
    {
     "name": "stdout",
     "output_type": "stream",
     "text": [
      "_IncompatibleKeys(missing_keys=[], unexpected_keys=['heads.0.weight', 'heads.0.bias', 'heads.1.weight', 'heads.1.bias', 'heads.2.weight', 'heads.2.bias', 'heads.3.weight', 'heads.3.bias', 'heads.4.weight', 'heads.4.bias'])\n"
     ]
    },
    {
     "name": "stderr",
     "output_type": "stream",
     "text": [
      "100%|██████████| 15/15 [00:01<00:00, 11.58it/s]\n"
     ]
    },
    {
     "name": "stdout",
     "output_type": "stream",
     "text": [
      "_IncompatibleKeys(missing_keys=[], unexpected_keys=['heads.0.weight', 'heads.0.bias', 'heads.1.weight', 'heads.1.bias', 'heads.2.weight', 'heads.2.bias'])\n"
     ]
    },
    {
     "name": "stderr",
     "output_type": "stream",
     "text": [
      "100%|██████████| 15/15 [00:01<00:00,  7.84it/s]\n"
     ]
    },
    {
     "name": "stdout",
     "output_type": "stream",
     "text": [
      "_IncompatibleKeys(missing_keys=[], unexpected_keys=['heads.0.weight', 'heads.0.bias', 'heads.1.weight', 'heads.1.bias', 'heads.2.weight', 'heads.2.bias', 'heads.3.weight', 'heads.3.bias'])\n"
     ]
    },
    {
     "name": "stderr",
     "output_type": "stream",
     "text": [
      "100%|██████████| 15/15 [00:01<00:00,  8.06it/s]\n"
     ]
    },
    {
     "name": "stdout",
     "output_type": "stream",
     "text": [
      "_IncompatibleKeys(missing_keys=[], unexpected_keys=['heads.0.weight', 'heads.0.bias', 'heads.1.weight', 'heads.1.bias', 'heads.2.weight', 'heads.2.bias', 'heads.3.weight', 'heads.3.bias', 'heads.4.weight', 'heads.4.bias'])\n"
     ]
    },
    {
     "name": "stderr",
     "output_type": "stream",
     "text": [
      "100%|██████████| 15/15 [00:01<00:00,  8.17it/s]\n"
     ]
    },
    {
     "name": "stdout",
     "output_type": "stream",
     "text": [
      "_IncompatibleKeys(missing_keys=[], unexpected_keys=['heads.0.weight', 'heads.0.bias', 'heads.1.weight', 'heads.1.bias', 'heads.2.weight', 'heads.2.bias', 'heads.3.weight', 'heads.3.bias'])\n"
     ]
    },
    {
     "name": "stderr",
     "output_type": "stream",
     "text": [
      "100%|██████████| 15/15 [00:01<00:00,  7.75it/s]\n"
     ]
    },
    {
     "name": "stdout",
     "output_type": "stream",
     "text": [
      "_IncompatibleKeys(missing_keys=[], unexpected_keys=['heads.0.weight', 'heads.0.bias', 'heads.1.weight', 'heads.1.bias', 'heads.2.weight', 'heads.2.bias', 'heads.3.weight', 'heads.3.bias', 'heads.4.weight', 'heads.4.bias'])\n"
     ]
    },
    {
     "name": "stderr",
     "output_type": "stream",
     "text": [
      "100%|██████████| 15/15 [00:02<00:00,  6.74it/s]\n"
     ]
    },
    {
     "name": "stdout",
     "output_type": "stream",
     "text": [
      "_IncompatibleKeys(missing_keys=[], unexpected_keys=['heads.0.weight', 'heads.0.bias', 'heads.1.weight', 'heads.1.bias', 'heads.2.weight', 'heads.2.bias', 'heads.3.weight', 'heads.3.bias', 'heads.4.weight', 'heads.4.bias'])\n"
     ]
    },
    {
     "name": "stderr",
     "output_type": "stream",
     "text": [
      "100%|██████████| 15/15 [00:01<00:00,  9.60it/s]"
     ]
    },
    {
     "name": "stdout",
     "output_type": "stream",
     "text": [
      "{0: [tensor([0.0809, 0.0067, 0.0041, 0.0000, 0.0012, 0.0078, 0.0059, 0.0067, 0.0524,\n",
      "        0.0129, 0.0020, 0.0520, 0.0000, 0.0021, 0.0017, 0.0000, 0.0111, 0.0437,\n",
      "        0.0000, 0.0000]),\n",
      "     tensor([0.0864, 0.0132, 0.0134, 0.0077, 0.0051, 0.0036, 0.0117, 0.0065, 0.0646,\n",
      "        0.0127, 0.0009, 0.0502, 0.0123, 0.0032, 0.0035, 0.0000, 0.0022, 0.0289,\n",
      "        0.0037, 0.0122]),\n",
      "     tensor([0.0803, 0.0067, 0.0005, 0.0055, 0.0257, 0.0036, 0.0256, 0.0162, 0.0469,\n",
      "        0.0100, 0.0038, 0.0000, 0.0000, 0.0060, 0.0017, 0.0010, 0.0011, 0.0395,\n",
      "        0.0033, 0.0041]),\n",
      "     tensor([0.1452, 0.0144, 0.0035, 0.0017, 0.0091, 0.0113, 0.0204, 0.0084, 0.0543,\n",
      "        0.0116, 0.0104, 0.0272, 0.0023, 0.0041, 0.0084, 0.0034, 0.0011, 0.0631,\n",
      "        0.0068, 0.0030])],\n",
      " 1: [tensor([0.1929, 0.0301, 0.0728, 0.1087, 0.0424, 0.0101, 0.0088, 0.0163, 0.0266,\n",
      "        0.0937, 0.0316, 0.0185, 0.0763, 0.0017, 0.0124, 0.0576, 0.0908, 0.0210,\n",
      "        0.0087, 0.0234]),\n",
      "     tensor([0.2114, 0.0523, 0.0675, 0.1182, 0.0499, 0.0102, 0.0088, 0.0050, 0.0356,\n",
      "        0.0973, 0.0249, 0.0197, 0.0804, 0.0110, 0.0142, 0.0583, 0.0483, 0.0283,\n",
      "        0.0081, 0.0373]),\n",
      "     tensor([0.2464, 0.0591, 0.0668, 0.1268, 0.0407, 0.0101, 0.0088, 0.0079, 0.0358,\n",
      "        0.0929, 0.0311, 0.0223, 0.0814, 0.0249, 0.0124, 0.0754, 0.0695, 0.0279,\n",
      "        0.0111, 0.0408])],\n",
      " 2: [tensor([0.0240, 0.0852, 0.0200, 0.0415, 0.0176, 0.0100, 0.1117, 0.0247, 0.0827,\n",
      "        0.0539, 0.0648, 0.0254, 0.0469, 0.1368, 0.0444, 0.0379, 0.0940, 0.0383,\n",
      "        0.0526, 0.0129]),\n",
      "     tensor([0.0243, 0.0872, 0.0279, 0.0436, 0.0222, 0.0129, 0.1036, 0.0340, 0.0963,\n",
      "        0.0567, 0.0607, 0.0133, 0.0598, 0.1275, 0.0598, 0.0386, 0.1250, 0.0485,\n",
      "        0.0733, 0.0216])],\n",
      " 3: [tensor([0.0821, 0.1057, 0.0747, 0.0357, 0.0156, 0.0422, 0.0545, 0.0029, 0.1332,\n",
      "        0.0664, 0.0203, 0.0488, 0.0172, 0.0093, 0.0090, 0.0648, 0.0381, 0.0247,\n",
      "        0.0153, 0.0595])],\n",
      " 4: []}\n"
     ]
    },
    {
     "name": "stderr",
     "output_type": "stream",
     "text": [
      "\n"
     ]
    }
   ],
   "source": [
    "datasets = {\n",
    "    \"cifar100\": {\"num_tasks\": 5, \"num_classes\": 20, \"paths\": cifar_100_paths},\n",
    "    \"cifar10\": {\"num_tasks\": 5, \"num_classes\": 2, \"paths\": cifar_10_paths},\n",
    "}\n",
    "DATASET = \"cifar100\"\n",
    "NUM_TASKS = datasets[DATASET][\"num_tasks\"]\n",
    "NUM_CLASSES = datasets[DATASET][\"num_classes\"]\n",
    "DEVICE = \"cuda\"\n",
    "PATHS = datasets[DATASET][\"paths\"]\n",
    "\n",
    "for path in PATHS:\n",
    "    match = list(Path(path).rglob(\"args*.txt\"))\n",
    "    assert len(match) == 1, \"Number of matched files is not equal to 1\"\n",
    "\n",
    "    # Open the file and grep for \"no_last_relu\"\n",
    "    file_path = match[0]\n",
    "    with open(file_path, \"r\") as file:\n",
    "        assert \"no_last_relu\" in file.read(), file_path\n",
    "\n",
    "\n",
    "for path in PATHS:\n",
    "    model = partial(load_extractor, path=path, load_and_clean=load_and_clean)\n",
    "    config = ContinualDatasetConfig(f\"{DATASET}_fixed\", NUM_TASKS)\n",
    "    cl_dataset = ContinualDataset(config)\n",
    "    dataloader = partial(\n",
    "        torch.utils.data.DataLoader,\n",
    "        batch_size=128,\n",
    "        num_workers=1,\n",
    "        drop_last=True,\n",
    "        pin_memory=True,\n",
    "    )\n",
    "\n",
    "    results = {}\n",
    "    for task_id in range(NUM_TASKS):\n",
    "        weights = torch.load(choose_task(path, task_id))[f\"heads.{task_id}.weight\"]\n",
    "        test_0 = cl_dataset[task_id, \"test\"]\n",
    "        test_0_dataloader = dataloader(test_0)\n",
    "        activations_0 = get_activations(\n",
    "            model(task=task_id), test_0_dataloader, device=DEVICE\n",
    "        )\n",
    "\n",
    "        changes = []\n",
    "\n",
    "        for i in range(task_id + 1, NUM_TASKS):\n",
    "            activations_1 = get_activations(\n",
    "                model(task=i), test_0_dataloader, device=DEVICE\n",
    "            )\n",
    "            # torch.load(path)\n",
    "            labels_signs = {}\n",
    "            for label in activations_0.keys():\n",
    "                d_changed = is_sign_changed(activations_0[label], activations_1[label])\n",
    "                labels_signs[label] = d_changed\n",
    "\n",
    "            sorted_signs = torch.stack(\n",
    "                [value for key, value in sorted(labels_signs.items())]\n",
    "            )\n",
    "\n",
    "            changed_mass = (\n",
    "                sorted_signs * weights.abs() / weights.abs().sum(1).unsqueeze(1)\n",
    "            ).sum(1)\n",
    "            changes.append(changed_mass.detach().cpu())\n",
    "\n",
    "        results[task_id] = changes\n",
    "\n",
    "    save_path = Path(\"sign_mass_results\", *Path(path).parts[1:])\n",
    "    os.makedirs(save_path, exist_ok=True)\n",
    "\n",
    "    save(\n",
    "        results,\n",
    "        os.path.join(save_path, \"sign.pkl\"),\n",
    "    )\n",
    "    pprint(results)"
   ]
  },
  {
   "cell_type": "code",
   "execution_count": null,
   "id": "78298429",
   "metadata": {},
   "outputs": [],
   "source": []
  }
 ],
 "metadata": {
  "kernelspec": {
   "display_name": "Python 3 (ipykernel)",
   "language": "python",
   "name": "python3"
  },
  "language_info": {
   "codemirror_mode": {
    "name": "ipython",
    "version": 3
   },
   "file_extension": ".py",
   "mimetype": "text/x-python",
   "name": "python",
   "nbconvert_exporter": "python",
   "pygments_lexer": "ipython3",
   "version": "3.10.11"
  }
 },
 "nbformat": 4,
 "nbformat_minor": 5
}
