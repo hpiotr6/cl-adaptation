{
 "cells": [
  {
   "cell_type": "code",
   "execution_count": 10,
   "metadata": {},
   "outputs": [],
   "source": [
    "from src.analysis import core\n",
    "from collections import OrderedDict\n",
    "\n",
    "\n",
    "def get_layer_shapes(path) -> OrderedDict[str, tuple]:\n",
    "    cfg = core.create_cfg(path)\n",
    "    cfg.data.num_workers = 1\n",
    "    data_factory = core.DataFactory(cfg)\n",
    "    model_factory = core.ModelFactory(cfg, path, device=\"cuda\")\n",
    "    model = model_factory.create_model(task=0, num_classes=20)\n",
    "    train_loader, _, test_loader, taskcla = data_factory[0]\n",
    "    layers_shapes = OrderedDict()\n",
    "\n",
    "    def hook_fn(layer_name):\n",
    "        def hook(module, input, output):\n",
    "            layers_shapes[layer_name] = output.shape\n",
    "            print(output.shape)\n",
    "            return output\n",
    "\n",
    "        return hook\n",
    "\n",
    "    for layer_name, layer in model_factory._collect_layers(model):\n",
    "        layer.register_forward_hook(hook_fn(layer_name))\n",
    "\n",
    "    model(train_loader.dataset[0][0].unsqueeze(0).to(\"cuda\"))\n",
    "\n",
    "    return layers_shapes"
   ]
  },
  {
   "cell_type": "code",
   "execution_count": 11,
   "metadata": {},
   "outputs": [
    {
     "name": "stdout",
     "output_type": "stream",
     "text": [
      "<All keys matched successfully>\n",
      "torch.Size([1, 96, 56, 56])\n",
      "torch.Size([1, 96, 56, 56])\n",
      "torch.Size([1, 96, 56, 56])\n",
      "torch.Size([1, 192, 28, 28])\n",
      "torch.Size([1, 192, 28, 28])\n",
      "torch.Size([1, 192, 28, 28])\n",
      "torch.Size([1, 384, 14, 14])\n",
      "torch.Size([1, 384, 14, 14])\n",
      "torch.Size([1, 384, 14, 14])\n",
      "torch.Size([1, 384, 14, 14])\n",
      "torch.Size([1, 384, 14, 14])\n",
      "torch.Size([1, 384, 14, 14])\n",
      "torch.Size([1, 384, 14, 14])\n",
      "torch.Size([1, 384, 14, 14])\n",
      "torch.Size([1, 384, 14, 14])\n",
      "torch.Size([1, 768, 7, 7])\n",
      "torch.Size([1, 768, 7, 7])\n",
      "torch.Size([1, 768, 7, 7])\n"
     ]
    }
   ],
   "source": [
    "path = \"results/2024/05.12/18-28-40/0/imagenet_subset_kaggle_finetuning\"\n",
    "imagenet_shapes = get_layer_shapes(path)"
   ]
  },
  {
   "cell_type": "code",
   "execution_count": 12,
   "metadata": {},
   "outputs": [
    {
     "name": "stdout",
     "output_type": "stream",
     "text": [
      "Files already downloaded and verified\n",
      "Files already downloaded and verified\n",
      "<All keys matched successfully>\n",
      "torch.Size([1, 96, 34, 34])\n",
      "torch.Size([1, 96, 34, 34])\n",
      "torch.Size([1, 96, 34, 34])\n",
      "torch.Size([1, 192, 17, 17])\n",
      "torch.Size([1, 192, 17, 17])\n",
      "torch.Size([1, 192, 17, 17])\n",
      "torch.Size([1, 384, 8, 8])\n",
      "torch.Size([1, 384, 8, 8])\n",
      "torch.Size([1, 384, 8, 8])\n",
      "torch.Size([1, 384, 8, 8])\n",
      "torch.Size([1, 384, 8, 8])\n",
      "torch.Size([1, 384, 8, 8])\n",
      "torch.Size([1, 384, 8, 8])\n",
      "torch.Size([1, 384, 8, 8])\n",
      "torch.Size([1, 384, 8, 8])\n",
      "torch.Size([1, 768, 4, 4])\n",
      "torch.Size([1, 768, 4, 4])\n",
      "torch.Size([1, 768, 4, 4])\n"
     ]
    }
   ],
   "source": [
    "path = \"results/2024/05.12/18-28-40/1/cifar100_fixed_finetuning\"\n",
    "cifar_shapes = get_layer_shapes(path)"
   ]
  },
  {
   "cell_type": "code",
   "execution_count": 16,
   "metadata": {},
   "outputs": [
    {
     "data": {
      "text/plain": [
       "['model.features.1.0.after_skipping',\n",
       " 'model.features.1.1.after_skipping',\n",
       " 'model.features.1.2.after_skipping',\n",
       " 'model.features.3.0.after_skipping',\n",
       " 'model.features.3.1.after_skipping',\n",
       " 'model.features.3.2.after_skipping',\n",
       " 'model.features.5.0.after_skipping',\n",
       " 'model.features.5.1.after_skipping',\n",
       " 'model.features.5.2.after_skipping',\n",
       " 'model.features.5.3.after_skipping',\n",
       " 'model.features.5.4.after_skipping',\n",
       " 'model.features.5.5.after_skipping',\n",
       " 'model.features.5.6.after_skipping',\n",
       " 'model.features.5.7.after_skipping',\n",
       " 'model.features.5.8.after_skipping',\n",
       " 'model.features.7.0.after_skipping',\n",
       " 'model.features.7.1.after_skipping',\n",
       " 'model.features.7.2.after_skipping']"
      ]
     },
     "execution_count": 16,
     "metadata": {},
     "output_type": "execute_result"
    }
   ],
   "source": [
    "list(imagenet_shapes.keys())"
   ]
  },
  {
   "cell_type": "code",
   "execution_count": 20,
   "metadata": {},
   "outputs": [
    {
     "data": {
      "text/plain": [
       "OrderedDict([('model.features.1.0.after_skipping',\n",
       "              torch.Size([1, 96, 56, 56])),\n",
       "             ('model.features.1.1.after_skipping',\n",
       "              torch.Size([1, 96, 56, 56])),\n",
       "             ('model.features.1.2.after_skipping',\n",
       "              torch.Size([1, 96, 56, 56])),\n",
       "             ('model.features.3.0.after_skipping',\n",
       "              torch.Size([1, 192, 28, 28])),\n",
       "             ('model.features.3.1.after_skipping',\n",
       "              torch.Size([1, 192, 28, 28])),\n",
       "             ('model.features.3.2.after_skipping',\n",
       "              torch.Size([1, 192, 28, 28])),\n",
       "             ('model.features.5.0.after_skipping',\n",
       "              torch.Size([1, 384, 14, 14])),\n",
       "             ('model.features.5.1.after_skipping',\n",
       "              torch.Size([1, 384, 14, 14])),\n",
       "             ('model.features.5.2.after_skipping',\n",
       "              torch.Size([1, 384, 14, 14])),\n",
       "             ('model.features.5.3.after_skipping',\n",
       "              torch.Size([1, 384, 14, 14])),\n",
       "             ('model.features.5.4.after_skipping',\n",
       "              torch.Size([1, 384, 14, 14])),\n",
       "             ('model.features.5.5.after_skipping',\n",
       "              torch.Size([1, 384, 14, 14])),\n",
       "             ('model.features.5.6.after_skipping',\n",
       "              torch.Size([1, 384, 14, 14])),\n",
       "             ('model.features.5.7.after_skipping',\n",
       "              torch.Size([1, 384, 14, 14])),\n",
       "             ('model.features.5.8.after_skipping',\n",
       "              torch.Size([1, 384, 14, 14])),\n",
       "             ('model.features.7.0.after_skipping', torch.Size([1, 768, 7, 7])),\n",
       "             ('model.features.7.1.after_skipping', torch.Size([1, 768, 7, 7])),\n",
       "             ('model.features.7.2.after_skipping',\n",
       "              torch.Size([1, 768, 7, 7]))])"
      ]
     },
     "execution_count": 20,
     "metadata": {},
     "output_type": "execute_result"
    }
   ],
   "source": [
    "imagenet_shapes"
   ]
  },
  {
   "cell_type": "code",
   "execution_count": 39,
   "metadata": {},
   "outputs": [],
   "source": [
    "import torch\n",
    "import torch.nn.functional as F\n",
    "\n",
    "\n",
    "example = torch.rand([200, 96, 56, 33])"
   ]
  },
  {
   "cell_type": "code",
   "execution_count": 40,
   "metadata": {},
   "outputs": [
    {
     "data": {
      "text/plain": [
       "torch.Size([1, 56, 33])"
      ]
     },
     "execution_count": 40,
     "metadata": {},
     "output_type": "execute_result"
    }
   ],
   "source": [
    "x = torch.mean(example[0], 0, True)\n",
    "x.shape"
   ]
  },
  {
   "cell_type": "code",
   "execution_count": 41,
   "metadata": {},
   "outputs": [
    {
     "data": {
      "text/plain": [
       "torch.Size([9, 1674])"
      ]
     },
     "execution_count": 41,
     "metadata": {},
     "output_type": "execute_result"
    }
   ],
   "source": [
    "x = F.unfold(x, 3, 2, 1)\n",
    "x.shape"
   ]
  },
  {
   "cell_type": "code",
   "execution_count": 50,
   "metadata": {},
   "outputs": [
    {
     "data": {
      "text/plain": [
       "torch.Size([1075200, 33])"
      ]
     },
     "execution_count": 50,
     "metadata": {},
     "output_type": "execute_result"
    }
   ],
   "source": [
    "example.flatten(0, -2).shape"
   ]
  },
  {
   "cell_type": "code",
   "execution_count": 53,
   "metadata": {},
   "outputs": [
    {
     "data": {
      "text/plain": [
       "torch.Size([369600, 96])"
      ]
     },
     "execution_count": 53,
     "metadata": {},
     "output_type": "execute_result"
    }
   ],
   "source": [
    "example.permute(0, 3, 2, 1).flatten(0, -2).shape"
   ]
  },
  {
   "cell_type": "code",
   "execution_count": null,
   "metadata": {},
   "outputs": [],
   "source": [
    "[128, 512]"
   ]
  }
 ],
 "metadata": {
  "kernelspec": {
   "display_name": "Python 3 (ipykernel)",
   "language": "python",
   "name": "python3"
  },
  "language_info": {
   "codemirror_mode": {
    "name": "ipython",
    "version": 3
   },
   "file_extension": ".py",
   "mimetype": "text/x-python",
   "name": "python",
   "nbconvert_exporter": "python",
   "pygments_lexer": "ipython3",
   "version": "3.10.11"
  }
 },
 "nbformat": 4,
 "nbformat_minor": 2
}
