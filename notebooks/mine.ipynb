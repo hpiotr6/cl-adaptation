{
 "cells": [
  {
   "cell_type": "code",
   "execution_count": null,
   "metadata": {},
   "outputs": [],
   "source": [
    "%load_ext autoreload\n",
    "%autoreload 2\n",
    "%cd .."
   ]
  },
  {
   "cell_type": "code",
   "execution_count": null,
   "metadata": {},
   "outputs": [],
   "source": []
  },
  {
   "cell_type": "code",
   "execution_count": null,
   "metadata": {},
   "outputs": [],
   "source": []
  },
  {
   "cell_type": "code",
   "execution_count": null,
   "metadata": {},
   "outputs": [],
   "source": [
    "from src.analysis.mine.models.mine import Mine\n",
    "from torch import nn\n",
    "import numpy as np\n",
    "\n",
    "x_dim = 1\n",
    "y_dim = 1\n",
    "\n",
    "statistics_network = nn.Sequential(\n",
    "    nn.Linear(x_dim + y_dim, 100),\n",
    "    nn.ReLU(),\n",
    "    nn.Linear(100, 100),\n",
    "    nn.ReLU(),\n",
    "    nn.Linear(100, 1),\n",
    ")\n",
    "\n",
    "mine = Mine(T=statistics_network, loss=\"mine\", method=\"concat\")  # mine_biased, fdiv\n",
    "\n",
    "joint_samples = np.random.multivariate_normal(\n",
    "    np.array([0, 0]), np.array([[1, 0.2], [0.2, 1]]), (256, 2)\n",
    ")\n",
    "\n",
    "X, Y = joint_samples[:, 0], joint_samples[:, 1]\n",
    "\n",
    "mi = mine.optimize(X, Y, iters=100, batch_size=500)"
   ]
  },
  {
   "cell_type": "code",
   "execution_count": null,
   "metadata": {},
   "outputs": [],
   "source": []
  },
  {
   "cell_type": "code",
   "execution_count": null,
   "metadata": {},
   "outputs": [],
   "source": []
  }
 ],
 "metadata": {
  "kernelspec": {
   "display_name": "Python 3 (ipykernel)",
   "language": "python",
   "name": "python3"
  }
 },
 "nbformat": 4,
 "nbformat_minor": 2
}
