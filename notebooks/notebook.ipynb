{
 "cells": [
  {
   "cell_type": "code",
   "execution_count": 1,
   "metadata": {},
   "outputs": [
    {
     "name": "stdout",
     "output_type": "stream",
     "text": [
      "Found in file: results/2024/04.19/13-45-48/4/cifar100_fixed_ewc/stderr-2024-04-19-16-49.txt, line: 8, content: Exception ignored in: <function Logger.__del__ at 0x14c6d9302560>\n",
      "Found in file: results/2024/04.19/13-45-48/3/cifar100_fixed_ewc/stderr-2024-04-19-16-48.txt, line: 8, content: Exception ignored in: <function Logger.__del__ at 0x1490da6ea560>\n"
     ]
    }
   ],
   "source": [
    "from collections import defaultdict\n",
    "import os\n",
    "from pathlib import Path\n",
    "from pprint import pprint\n",
    "import re\n",
    "\n",
    "import yaml\n",
    "\n",
    "# Define the directory path and search pattern\n",
    "directory_path = \"results/2024/04.19/13-45-48\"\n",
    "search_text = \"Exception ignored in: <function Logger.__del__\"\n",
    "\n",
    "# Find files matching the pattern\n",
    "files = Path(directory_path).rglob(pattern=\"stderr*\")\n",
    "\n",
    "# Define a regular expression pattern to match the search text\n",
    "pattern = re.compile(search_text)\n",
    "\n",
    "broken_params = []\n",
    "# Iterate through each file and search for the text\n",
    "for file_path in files:\n",
    "    with file_path.open(\"r\") as file:\n",
    "        for line_number, line in enumerate(file, start=1):\n",
    "            if pattern.search(line):\n",
    "                print(\n",
    "                    f\"Found in file: {file_path}, line: {line_number}, content: {line.strip()}\"\n",
    "                )\n",
    "                yaml_file = file_path.parent.parent / \".hydra\" / \"overrides.yaml\"\n",
    "                broken_params.append(yaml.safe_load(yaml_file.open(\"r\")))\n",
    "                break\n",
    "# pprint(broken_params)\n",
    "\n",
    "# grouped_data = defaultdict(list)\n",
    "\n",
    "# # Iterate through the data and group it based on the first element of each sublist\n",
    "# for sublist in broken_params:\n",
    "#     key = sublist[0]\n",
    "#     grouped_data[key].append(sublist[1:])\n",
    "\n",
    "# # Convert defaultdict to dict\n",
    "# grouped_data = dict(grouped_data)\n",
    "\n",
    "# pprint(grouped_data)"
   ]
  },
  {
   "cell_type": "code",
   "execution_count": 2,
   "metadata": {},
   "outputs": [],
   "source": [
    "import pandas as pd\n",
    "import numpy as np\n",
    "\n",
    "params = np.asarray(broken_params)\n",
    "\n",
    "\n",
    "def delete_to_pandas(name, arr):\n",
    "    return map(lambda x: x.replace(name, \"\"), arr)\n",
    "\n",
    "\n",
    "names = [\n",
    "    \"training.vcreg.reg_layers=\",\n",
    "    \"training.vcreg.var_weight=\",\n",
    "    \"training.vcreg.cov_weight=\",\n",
    "]\n",
    "df = pd.DataFrame(\n",
    "    [delete_to_pandas(name, params[:, idx]) for idx, name in enumerate(names)]\n",
    ").T"
   ]
  },
  {
   "cell_type": "code",
   "execution_count": 3,
   "metadata": {},
   "outputs": [],
   "source": [
    "df = df.rename(\n",
    "    columns={\n",
    "        0: \"reg_layers\",\n",
    "        1: \"var_weight\",\n",
    "        2: \"cov_weight\",\n",
    "    }\n",
    ")"
   ]
  },
  {
   "cell_type": "code",
   "execution_count": 4,
   "metadata": {},
   "outputs": [
    {
     "data": {
      "text/plain": [
       "[{'reg_layers': 'fc$', 'var_weight': '1.74', 'cov_weight': '0.64'},\n",
       " {'reg_layers': 'fc$', 'var_weight': '0.64', 'cov_weight': '12.8'}]"
      ]
     },
     "execution_count": 4,
     "metadata": {},
     "output_type": "execute_result"
    }
   ],
   "source": [
    "list(df.T.to_dict().values())"
   ]
  },
  {
   "cell_type": "code",
   "execution_count": 19,
   "metadata": {},
   "outputs": [
    {
     "data": {
      "text/plain": [
       "11"
      ]
     },
     "execution_count": 19,
     "metadata": {},
     "output_type": "execute_result"
    }
   ],
   "source": [
    "len(broken_params)"
   ]
  },
  {
   "cell_type": "code",
   "execution_count": null,
   "metadata": {},
   "outputs": [],
   "source": []
  }
 ],
 "metadata": {
  "kernelspec": {
   "display_name": "Python 3",
   "language": "python",
   "name": "python3"
  },
  "language_info": {
   "codemirror_mode": {
    "name": "ipython",
    "version": 3
   },
   "file_extension": ".py",
   "mimetype": "text/x-python",
   "name": "python",
   "nbconvert_exporter": "python",
   "pygments_lexer": "ipython3",
   "version": "3.10.11"
  }
 },
 "nbformat": 4,
 "nbformat_minor": 2
}
