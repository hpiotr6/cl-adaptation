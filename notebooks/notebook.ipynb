{
 "cells": [
  {
   "cell_type": "code",
   "execution_count": 1,
   "metadata": {},
   "outputs": [
    {
     "name": "stdout",
     "output_type": "stream",
     "text": [
      "Found in file: results/2024/04.19/13-45-48/4/cifar100_fixed_ewc/stderr-2024-04-19-16-49.txt, line: 8, content: Exception ignored in: <function Logger.__del__ at 0x14c6d9302560>\n",
      "Found in file: results/2024/04.19/13-45-48/3/cifar100_fixed_ewc/stderr-2024-04-19-16-48.txt, line: 8, content: Exception ignored in: <function Logger.__del__ at 0x1490da6ea560>\n"
     ]
    }
   ],
   "source": [
    "from collections import defaultdict\n",
    "import os\n",
    "from pathlib import Path\n",
    "from pprint import pprint\n",
    "import re\n",
    "\n",
    "import yaml\n",
    "\n",
    "# Define the directory path and search pattern\n",
    "directory_path = \"results/2024/04.19/13-45-48\"\n",
    "search_text = \"Exception ignored in: <function Logger.__del__\"\n",
    "\n",
    "# Find files matching the pattern\n",
    "files = Path(directory_path).rglob(pattern=\"stderr*\")\n",
    "\n",
    "# Define a regular expression pattern to match the search text\n",
    "pattern = re.compile(search_text)\n",
    "\n",
    "broken_params = []\n",
    "# Iterate through each file and search for the text\n",
    "for file_path in files:\n",
    "    with file_path.open(\"r\") as file:\n",
    "        for line_number, line in enumerate(file, start=1):\n",
    "            if pattern.search(line):\n",
    "                print(\n",
    "                    f\"Found in file: {file_path}, line: {line_number}, content: {line.strip()}\"\n",
    "                )\n",
    "                yaml_file = file_path.parent.parent / \".hydra\" / \"overrides.yaml\"\n",
    "                broken_params.append(yaml.safe_load(yaml_file.open(\"r\")))\n",
    "                break\n",
    "# pprint(broken_params)\n",
    "\n",
    "# grouped_data = defaultdict(list)\n",
    "\n",
    "# # Iterate through the data and group it based on the first element of each sublist\n",
    "# for sublist in broken_params:\n",
    "#     key = sublist[0]\n",
    "#     grouped_data[key].append(sublist[1:])\n",
    "\n",
    "# # Convert defaultdict to dict\n",
    "# grouped_data = dict(grouped_data)\n",
    "\n",
    "# pprint(grouped_data)"
   ]
  },
  {
   "cell_type": "code",
   "execution_count": 2,
   "metadata": {},
   "outputs": [],
   "source": [
    "import pandas as pd\n",
    "import numpy as np\n",
    "\n",
    "params = np.asarray(broken_params)\n",
    "\n",
    "\n",
    "def delete_to_pandas(name, arr):\n",
    "    return map(lambda x: x.replace(name, \"\"), arr)\n",
    "\n",
    "\n",
    "names = [\n",
    "    \"training.vcreg.reg_layers=\",\n",
    "    \"training.vcreg.var_weight=\",\n",
    "    \"training.vcreg.cov_weight=\",\n",
    "]\n",
    "df = pd.DataFrame(\n",
    "    [delete_to_pandas(name, params[:, idx]) for idx, name in enumerate(names)]\n",
    ").T"
   ]
  },
  {
   "cell_type": "code",
   "execution_count": 3,
   "metadata": {},
   "outputs": [],
   "source": [
    "df = df.rename(\n",
    "    columns={\n",
    "        0: \"reg_layers\",\n",
    "        1: \"var_weight\",\n",
    "        2: \"cov_weight\",\n",
    "    }\n",
    ")"
   ]
  },
  {
   "cell_type": "code",
   "execution_count": 4,
   "metadata": {},
   "outputs": [
    {
     "data": {
      "text/plain": [
       "[{'reg_layers': 'fc$', 'var_weight': '1.74', 'cov_weight': '0.64'},\n",
       " {'reg_layers': 'fc$', 'var_weight': '0.64', 'cov_weight': '12.8'}]"
      ]
     },
     "execution_count": 4,
     "metadata": {},
     "output_type": "execute_result"
    }
   ],
   "source": [
    "list(df.T.to_dict().values())"
   ]
  },
  {
   "cell_type": "code",
   "execution_count": 19,
   "metadata": {},
   "outputs": [
    {
     "data": {
      "text/plain": [
       "11"
      ]
     },
     "execution_count": 19,
     "metadata": {},
     "output_type": "execute_result"
    }
   ],
   "source": [
    "len(broken_params)"
   ]
  },
  {
   "cell_type": "code",
   "execution_count": 83,
   "metadata": {},
   "outputs": [],
   "source": [
    "import pandas as pd\n",
    "import wandb\n",
    "\n",
    "api = wandb.Api()\n",
    "\n",
    "# Project is specified by <entity/project-name>\n",
    "runs = api.runs(\"tunnels-ssl/05.20\")\n",
    "\n",
    "summary_list, config_list, name_list = [], [], []\n",
    "for run in runs:\n",
    "    # .summary contains the output keys/values for metrics like accuracy.\n",
    "    #  We call ._json_dict to omit large files\n",
    "    summary_list.append(run.summary._json_dict[\"test/avg_acc_tag\"])\n",
    "\n",
    "    # .config contains the hyperparameters.\n",
    "    #  We remove special values that start with _.\n",
    "    config_list.append({k: v for k, v in run.config.items() if not k.startswith(\"_\")})\n",
    "\n",
    "    # .name is the human-readable name of the run.\n",
    "    name_list.append(run.name)\n",
    "\n",
    "runs_df = pd.DataFrame(\n",
    "    {\"avg_acc_tag\": summary_list, \"config\": config_list, \"name\": name_list}\n",
    ")\n",
    "config_df = pd.json_normalize(runs_df[\"config\"])\n",
    "df = pd.concat([runs_df.drop(columns=[\"config\"]), config_df], axis=1)\n",
    "df[\"data.datasets\"] = df[\"data.datasets\"].apply(lambda x: x[0])"
   ]
  },
  {
   "cell_type": "code",
   "execution_count": 85,
   "metadata": {},
   "outputs": [
    {
     "data": {
      "text/html": [
       "<div>\n",
       "<style scoped>\n",
       "    .dataframe tbody tr th:only-of-type {\n",
       "        vertical-align: middle;\n",
       "    }\n",
       "\n",
       "    .dataframe tbody tr th {\n",
       "        vertical-align: top;\n",
       "    }\n",
       "\n",
       "    .dataframe thead th {\n",
       "        text-align: right;\n",
       "    }\n",
       "</style>\n",
       "<table border=\"1\" class=\"dataframe\">\n",
       "  <thead>\n",
       "    <tr style=\"text-align: right;\">\n",
       "      <th></th>\n",
       "      <th>training.approach.name</th>\n",
       "      <th>training.vcreg.reg_layers</th>\n",
       "      <th>training.vcreg.var_weight</th>\n",
       "      <th>training.vcreg.cov_weight</th>\n",
       "      <th>data.num_tasks</th>\n",
       "      <th>model.network</th>\n",
       "      <th>misc.seed</th>\n",
       "      <th>avg_acc_tag</th>\n",
       "    </tr>\n",
       "  </thead>\n",
       "  <tbody>\n",
       "    <tr>\n",
       "      <th>4</th>\n",
       "      <td>ewc</td>\n",
       "      <td>.*after_relu</td>\n",
       "      <td>0.64</td>\n",
       "      <td>12.8</td>\n",
       "      <td>20</td>\n",
       "      <td>resnet34_skips</td>\n",
       "      <td>2</td>\n",
       "      <td>3.90</td>\n",
       "    </tr>\n",
       "    <tr>\n",
       "      <th>5</th>\n",
       "      <td>ewc</td>\n",
       "      <td>.*after_relu</td>\n",
       "      <td>0.64</td>\n",
       "      <td>12.8</td>\n",
       "      <td>20</td>\n",
       "      <td>resnet34_skips</td>\n",
       "      <td>1</td>\n",
       "      <td>5.40</td>\n",
       "    </tr>\n",
       "    <tr>\n",
       "      <th>6</th>\n",
       "      <td>ewc</td>\n",
       "      <td>.*after_relu</td>\n",
       "      <td>0.64</td>\n",
       "      <td>12.8</td>\n",
       "      <td>10</td>\n",
       "      <td>resnet34_skips</td>\n",
       "      <td>2</td>\n",
       "      <td>15.64</td>\n",
       "    </tr>\n",
       "    <tr>\n",
       "      <th>7</th>\n",
       "      <td>ewc</td>\n",
       "      <td>.*after_relu</td>\n",
       "      <td>0.64</td>\n",
       "      <td>12.8</td>\n",
       "      <td>10</td>\n",
       "      <td>resnet34_skips</td>\n",
       "      <td>1</td>\n",
       "      <td>14.74</td>\n",
       "    </tr>\n",
       "  </tbody>\n",
       "</table>\n",
       "</div>"
      ],
      "text/plain": [
       "  training.approach.name training.vcreg.reg_layers  training.vcreg.var_weight  \\\n",
       "4                    ewc              .*after_relu                       0.64   \n",
       "5                    ewc              .*after_relu                       0.64   \n",
       "6                    ewc              .*after_relu                       0.64   \n",
       "7                    ewc              .*after_relu                       0.64   \n",
       "\n",
       "   training.vcreg.cov_weight  data.num_tasks   model.network  misc.seed  \\\n",
       "4                       12.8              20  resnet34_skips          2   \n",
       "5                       12.8              20  resnet34_skips          1   \n",
       "6                       12.8              10  resnet34_skips          2   \n",
       "7                       12.8              10  resnet34_skips          1   \n",
       "\n",
       "   avg_acc_tag  \n",
       "4         3.90  \n",
       "5         5.40  \n",
       "6        15.64  \n",
       "7        14.74  "
      ]
     },
     "execution_count": 85,
     "metadata": {},
     "output_type": "execute_result"
    }
   ],
   "source": [
    "filtered_df = df[\n",
    "    (df[\"model.network\"] == \"resnet34_skips\")\n",
    "    & (df[\"training.vcreg.var_weight\"] == 0.64)\n",
    "    & (df[\"data.datasets\"].str.contains(\"imagenet\"))\n",
    "    & (df[\"training.approach.name\"] == \"ewc\")\n",
    "    & (df[\"data.stop_at_task\"] == 0)\n",
    "    & (df[\"training.nepochs\"] == 100)\n",
    "    & (df[\"training.vcreg.n_first_task\"] == -1)\n",
    "]\n",
    "\n",
    "filtered = filtered_df[\n",
    "    [\n",
    "        \"training.approach.name\",\n",
    "        \"training.vcreg.reg_layers\",\n",
    "        \"training.vcreg.var_weight\",\n",
    "        \"training.vcreg.cov_weight\",\n",
    "        \"data.num_tasks\",\n",
    "        \"model.network\",\n",
    "        \"misc.seed\",\n",
    "        \"avg_acc_tag\",\n",
    "    ]\n",
    "]\n",
    "\n",
    "# filtered.to_csv(\"ewc_imagent_seeds.csv\", mode=\"a\", index=False)\n",
    "\n",
    "filtered"
   ]
  },
  {
   "cell_type": "code",
   "execution_count": 68,
   "metadata": {},
   "outputs": [],
   "source": [
    "import wandb\n",
    "import pandas as pd\n",
    "import matplotlib.pyplot as plt\n",
    "\n",
    "# Initialize the API\n",
    "api = wandb.Api()\n",
    "\n",
    "# Replace 'username/project_name/run_id' with your specific run path\n",
    "runs = api.runs(\"tunnels-ssl/05.14\")\n",
    "run = runs[0]\n",
    "# run = api.run(\"username/project_name/run_id\")\n",
    "\n",
    "# Retrieve the history for the specific metric\n",
    "history = run.history(keys=[\"test_acc_taw/t_0\"], x_axis=\"_step\")\n",
    "\n",
    "# Convert to DataFrame for easier handling\n",
    "# df = pd.DataFrame(history)\n",
    "\n",
    "# # Plot the metric\n",
    "# plt.figure(figsize=(10, 5))\n",
    "# plt.plot(df[\"_step\"], df[\"test_acc_taw/t_0\"], label=\"test_acc_taw/t_0\")\n",
    "# plt.xlabel(\"Step\")\n",
    "# plt.ylabel(\"Test Accuracy\")\n",
    "# plt.title(\"Test Accuracy over Steps\")\n",
    "# plt.legend()\n",
    "# plt.show()"
   ]
  },
  {
   "cell_type": "code",
   "execution_count": 25,
   "metadata": {},
   "outputs": [
    {
     "data": {
      "text/html": [
       "<div>\n",
       "<style scoped>\n",
       "    .dataframe tbody tr th:only-of-type {\n",
       "        vertical-align: middle;\n",
       "    }\n",
       "\n",
       "    .dataframe tbody tr th {\n",
       "        vertical-align: top;\n",
       "    }\n",
       "\n",
       "    .dataframe thead th {\n",
       "        text-align: right;\n",
       "    }\n",
       "</style>\n",
       "<table border=\"1\" class=\"dataframe\">\n",
       "  <thead>\n",
       "    <tr style=\"text-align: right;\">\n",
       "      <th></th>\n",
       "      <th>_step</th>\n",
       "      <th>test_acc_taw/t_0</th>\n",
       "    </tr>\n",
       "  </thead>\n",
       "  <tbody>\n",
       "    <tr>\n",
       "      <th>0</th>\n",
       "      <td>1003</td>\n",
       "      <td>70.7</td>\n",
       "    </tr>\n",
       "    <tr>\n",
       "      <th>1</th>\n",
       "      <td>2277</td>\n",
       "      <td>70.9</td>\n",
       "    </tr>\n",
       "    <tr>\n",
       "      <th>2</th>\n",
       "      <td>3551</td>\n",
       "      <td>71.0</td>\n",
       "    </tr>\n",
       "    <tr>\n",
       "      <th>3</th>\n",
       "      <td>4825</td>\n",
       "      <td>71.6</td>\n",
       "    </tr>\n",
       "    <tr>\n",
       "      <th>4</th>\n",
       "      <td>6099</td>\n",
       "      <td>70.8</td>\n",
       "    </tr>\n",
       "    <tr>\n",
       "      <th>5</th>\n",
       "      <td>7373</td>\n",
       "      <td>71.3</td>\n",
       "    </tr>\n",
       "    <tr>\n",
       "      <th>6</th>\n",
       "      <td>8647</td>\n",
       "      <td>70.4</td>\n",
       "    </tr>\n",
       "    <tr>\n",
       "      <th>7</th>\n",
       "      <td>9921</td>\n",
       "      <td>70.4</td>\n",
       "    </tr>\n",
       "    <tr>\n",
       "      <th>8</th>\n",
       "      <td>11195</td>\n",
       "      <td>69.8</td>\n",
       "    </tr>\n",
       "    <tr>\n",
       "      <th>9</th>\n",
       "      <td>12469</td>\n",
       "      <td>68.9</td>\n",
       "    </tr>\n",
       "  </tbody>\n",
       "</table>\n",
       "</div>"
      ],
      "text/plain": [
       "   _step  test_acc_taw/t_0\n",
       "0   1003              70.7\n",
       "1   2277              70.9\n",
       "2   3551              71.0\n",
       "3   4825              71.6\n",
       "4   6099              70.8\n",
       "5   7373              71.3\n",
       "6   8647              70.4\n",
       "7   9921              70.4\n",
       "8  11195              69.8\n",
       "9  12469              68.9"
      ]
     },
     "execution_count": 25,
     "metadata": {},
     "output_type": "execute_result"
    }
   ],
   "source": [
    "history"
   ]
  },
  {
   "cell_type": "code",
   "execution_count": 11,
   "metadata": {},
   "outputs": [],
   "source": [
    "hist = run.history()"
   ]
  },
  {
   "cell_type": "code",
   "execution_count": 18,
   "metadata": {},
   "outputs": [
    {
     "data": {
      "text/plain": [
       "148    73.8\n",
       "489    35.0\n",
       "Name: test_acc_taw/t_0, dtype: float64"
      ]
     },
     "execution_count": 18,
     "metadata": {},
     "output_type": "execute_result"
    }
   ],
   "source": [
    "hist[hist[\"test_acc_taw/t_0\"].notna()][\"test_acc_taw/t_0\"]"
   ]
  },
  {
   "cell_type": "code",
   "execution_count": 26,
   "metadata": {},
   "outputs": [],
   "source": [
    "filtered_df = df[\n",
    "    (df[\"model.network\"].str.contains(\"resnet\"))\n",
    "    & (df[\"data.datasets\"].str.contains(\"cifar\"))\n",
    "    & (df[\"training.approach.name\"] == \"finetuning\")\n",
    "    & (df[\"data.exemplars.num_exemplars\"] == 0)\n",
    "    & (df[\"data.num_tasks\"] == 5)\n",
    "    # & (df[\"training.vcreg.n_first_task\"] == 1)\n",
    "]\n",
    "vals = filtered_df[\n",
    "    [\n",
    "        \"misc.seed\",\n",
    "        \"training.vcreg.reg_layers\",\n",
    "        \"misc.results_path\",\n",
    "        \"training.vcreg.n_first_task\",\n",
    "    ]\n",
    "].values"
   ]
  },
  {
   "cell_type": "code",
   "execution_count": 27,
   "metadata": {},
   "outputs": [
    {
     "data": {
      "text/plain": [
       "array([], shape=(0, 4), dtype=object)"
      ]
     },
     "execution_count": 27,
     "metadata": {},
     "output_type": "execute_result"
    }
   ],
   "source": [
    "vals"
   ]
  },
  {
   "cell_type": "code",
   "execution_count": null,
   "metadata": {},
   "outputs": [],
   "source": [
    "{\n",
    "    \"finetuning_first_task_reg\": \"results/2024/04.24/13-35-10/1\",\n",
    "    \"resnet_finetuning_s:0_reg:True\": \"results/2024/04.24/13-35-10/0\",\n",
    "    \"resnet_finetuning_s:0_reg:False\": \"results/2024/04.17/18-13-25/0\",\n",
    "    \"resnet_finetuning_s:2_reg:False\": \"results/2024/05.14/13-28-06/1\",\n",
    "    \"resnet_finetuning_s:1_reg:False\": \"results/2024/05.14/13-28-06/0\",\n",
    "    \"resnet_finetuning_s:2_reg:True\": \"results/2024/05.14/13-27-53/19\",\n",
    "    \"resnet_finetuning_s:1_reg:True\": \"results/2024/05.14/13-27-53/18\",\n",
    "}"
   ]
  },
  {
   "cell_type": "code",
   "execution_count": 18,
   "metadata": {},
   "outputs": [],
   "source": [
    "import numpy as np\n",
    "\n",
    "results = {}\n",
    "for val in vals:\n",
    "    results[f\"resnet_finetuning_s:{val[0]}_reg:{not 'nan' == str(val[1])}\"] = val[2]"
   ]
  },
  {
   "cell_type": "code",
   "execution_count": 19,
   "metadata": {},
   "outputs": [
    {
     "data": {
      "text/plain": [
       "{'resnet_finetuning_s:2_reg:False': 'results/2024/05.14/13-28-06/1',\n",
       " 'resnet_finetuning_s:1_reg:False': 'results/2024/05.14/13-28-06/0',\n",
       " 'resnet_finetuning_s:2_reg:True': 'results/2024/05.14/13-27-53/19',\n",
       " 'resnet_finetuning_s:1_reg:True': 'results/2024/05.14/13-27-53/18'}"
      ]
     },
     "execution_count": 19,
     "metadata": {},
     "output_type": "execute_result"
    }
   ],
   "source": [
    "results\n",
    "{\n",
    "    \"resnet_finetuning_s:2_reg:False\": \"results/2024/05.14/13-28-06/1\",\n",
    "    \"resnet_finetuning_s:1_reg:False\": \"results/2024/05.14/13-28-06/0\",\n",
    "    \"resnet_finetuning_s:2_reg:True\": \"results/2024/05.14/13-27-53/19\",\n",
    "    \"resnet_finetuning_s:1_reg:True\": \"results/2024/05.14/13-27-53/18\",\n",
    "}"
   ]
  },
  {
   "cell_type": "code",
   "execution_count": 43,
   "metadata": {},
   "outputs": [
    {
     "data": {
      "text/plain": [
       "array([[2, nan, 'results/2024/05.14/13-28-06/7'],\n",
       "       [1, nan, 'results/2024/05.14/13-28-06/6'],\n",
       "       [2, 'classifier$', 'results/2024/05.14/13-27-53/13'],\n",
       "       [1, 'classifier$', 'results/2024/05.14/13-27-53/12'],\n",
       "       [0, 'classifier$', 'results/2024/05.14/13-27-15/1'],\n",
       "       [0, nan, 'results/2024/05.14/13-27-08/0']], dtype=object)"
      ]
     },
     "execution_count": 43,
     "metadata": {},
     "output_type": "execute_result"
    }
   ],
   "source": [
    "vals"
   ]
  },
  {
   "cell_type": "code",
   "execution_count": null,
   "metadata": {},
   "outputs": [],
   "source": [
    "results"
   ]
  },
  {
   "cell_type": "code",
   "execution_count": null,
   "metadata": {},
   "outputs": [],
   "source": [
    "results"
   ]
  },
  {
   "cell_type": "code",
   "execution_count": 7,
   "metadata": {},
   "outputs": [
    {
     "name": "stdout",
     "output_type": "stream",
     "text": [
      "data=0 task=0\n",
      "data=0 task=1\n",
      "data=0 task=2\n",
      "data=0 task=3\n",
      "data=0 task=4\n",
      "data=1 task=1\n",
      "data=1 task=2\n",
      "data=1 task=3\n",
      "data=1 task=4\n",
      "data=2 task=2\n",
      "data=2 task=3\n",
      "data=2 task=4\n",
      "data=3 task=3\n",
      "data=3 task=4\n",
      "data=4 task=4\n"
     ]
    }
   ],
   "source": [
    "for data in range(5):\n",
    "    for task in range(5):\n",
    "        if data > task:\n",
    "            continue\n",
    "        print(f\"{data=} {task=}\")"
   ]
  },
  {
   "cell_type": "code",
   "execution_count": null,
   "metadata": {},
   "outputs": [],
   "source": []
  }
 ],
 "metadata": {
  "kernelspec": {
   "display_name": "Python 3 (ipykernel)",
   "language": "python",
   "name": "python3"
  },
  "language_info": {
   "codemirror_mode": {
    "name": "ipython",
    "version": 3
   },
   "file_extension": ".py",
   "mimetype": "text/x-python",
   "name": "python",
   "nbconvert_exporter": "python",
   "pygments_lexer": "ipython3",
   "version": "3.10.11"
  }
 },
 "nbformat": 4,
 "nbformat_minor": 2
}
