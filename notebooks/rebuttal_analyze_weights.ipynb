{
 "cells": [
  {
   "cell_type": "code",
   "execution_count": 1,
   "metadata": {},
   "outputs": [],
   "source": [
    "import pandas as pd\n",
    "import wandb\n",
    "\n",
    "api = wandb.Api()\n",
    "\n",
    "# Project is specified by <entity/project-name>\n",
    "runs = api.runs(\"tunnels-ssl/05.10\")\n",
    "\n",
    "summary_list, config_list, name_list = [], [], []\n",
    "for run in runs:\n",
    "    # .summary contains the output keys/values for metrics like accuracy.\n",
    "    #  We call ._json_dict to omit large files\n",
    "    summary_list.append(run.summary._json_dict[\"test/avg_acc_tag\"])\n",
    "\n",
    "    # .config contains the hyperparameters.\n",
    "    #  We remove special values that start with _.\n",
    "    config_list.append({k: v for k, v in run.config.items() if not k.startswith(\"_\")})\n",
    "\n",
    "    # .name is the human-readable name of the run.\n",
    "    name_list.append(run.name)\n",
    "\n",
    "runs_df = pd.DataFrame(\n",
    "    {\"avg_acc_tag\": summary_list, \"config\": config_list, \"name\": name_list}\n",
    ")\n",
    "\n",
    "config_df = pd.json_normalize(runs_df[\"config\"])\n",
    "df = pd.concat([runs_df.drop(columns=[\"config\"]), config_df], axis=1)\n",
    "df[\"data.datasets\"] = df[\"data.datasets\"].apply(lambda x: x[0])"
   ]
  },
  {
   "cell_type": "code",
   "execution_count": 34,
   "metadata": {},
   "outputs": [],
   "source": [
    "from typing import Optional\n",
    "\n",
    "\n",
    "layers = {\n",
    "    \"last_layer\": [\"fc\", \"classifier\"],\n",
    "    \"intermediate\": [\"after_relu\", \"after_skipping\"],\n",
    "}\n",
    "\n",
    "\n",
    "def get_df(\n",
    "    df, network: str, layer: str, dataset: str, noreg_val: Optional[float] = None\n",
    "):\n",
    "    conditions = (\n",
    "        (df[\"model.network\"].str.contains(network))\n",
    "        & (df[\"misc.seed\"] == 0)\n",
    "        & (df[\"data.datasets\"].str.contains(dataset))\n",
    "        & (df[\"training.approach.name\"] == \"finetuning\")\n",
    "        & (df[\"data.exemplars.num_exemplars\"] == 0)\n",
    "        & (df[\"data.nc_first_task\"] != 50)\n",
    "        & (df[\"data.stop_at_task\"] == 3)\n",
    "        & (df[\"data.num_tasks\"] == 5)\n",
    "    )\n",
    "    varcov = conditions & (\n",
    "        df[\"training.vcreg.reg_layers\"].str.contains(\"|\".join(layers[layer]))\n",
    "    )\n",
    "\n",
    "    if not noreg_val:\n",
    "        noreg = conditions & (df[\"training.vcreg.reg_layers\"].isna())\n",
    "        noreg_val = df[noreg][\"avg_acc_tag\"].item()\n",
    "\n",
    "    filtered_df = df[varcov]\n",
    "    filtered_df[\"diff\"] = filtered_df[\"avg_acc_tag\"] - noreg_val\n",
    "    return filtered_df\n",
    "    # & (df[\"training.vcreg.reg_layers\"].str)\n",
    "    # filtered_df = df[\n",
    "    # ]\n",
    "    # )\n",
    "    # noreg = filtered_df[filtered_df[\"training.vcreg.reg_layers\"].isna()]\n",
    "\n",
    "    # return filtered_df[varcov.dropna()] - noreg"
   ]
  },
  {
   "cell_type": "code",
   "execution_count": 35,
   "metadata": {},
   "outputs": [
    {
     "name": "stdout",
     "output_type": "stream",
     "text": [
      "Series([], Name: avg_acc_tag, dtype: float64)\n",
      "48    14.333333\n",
      "49     6.950000\n",
      "50    22.300000\n",
      "51    13.650000\n",
      "52     5.700000\n",
      "53     9.633333\n",
      "54     7.233333\n",
      "55     6.150000\n",
      "57    23.466667\n",
      "58    18.083333\n",
      "59    31.666667\n",
      "60    26.150000\n",
      "61    20.650000\n",
      "62    28.216667\n",
      "63    28.733333\n",
      "64    28.450000\n",
      "Name: avg_acc_tag, dtype: float64\n"
     ]
    },
    {
     "ename": "ValueError",
     "evalue": "can only convert an array of size 1 to a Python scalar",
     "output_type": "error",
     "traceback": [
      "\u001b[0;31m---------------------------------------------------------------------------\u001b[0m",
      "\u001b[0;31mValueError\u001b[0m                                Traceback (most recent call last)",
      "Cell \u001b[0;32mIn[35], line 2\u001b[0m\n\u001b[1;32m      1\u001b[0m network \u001b[38;5;241m=\u001b[39m \u001b[38;5;124m\"\u001b[39m\u001b[38;5;124mresnet\u001b[39m\u001b[38;5;124m\"\u001b[39m\n\u001b[0;32m----> 2\u001b[0m p \u001b[38;5;241m=\u001b[39m \u001b[43mget_df\u001b[49m\u001b[43m(\u001b[49m\u001b[43mdf\u001b[49m\u001b[43m,\u001b[49m\u001b[43m \u001b[49m\u001b[43mnetwork\u001b[49m\u001b[43m,\u001b[49m\u001b[43m \u001b[49m\u001b[38;5;124;43m\"\u001b[39;49m\u001b[38;5;124;43mlast_layer\u001b[39;49m\u001b[38;5;124;43m\"\u001b[39;49m\u001b[43m,\u001b[49m\u001b[43m \u001b[49m\u001b[38;5;124;43m\"\u001b[39;49m\u001b[38;5;124;43mcifar\u001b[39;49m\u001b[38;5;124;43m\"\u001b[39;49m\u001b[43m)\u001b[49m\u001b[38;5;241m.\u001b[39mpivot(\n\u001b[1;32m      3\u001b[0m     index\u001b[38;5;241m=\u001b[39m\u001b[38;5;124m\"\u001b[39m\u001b[38;5;124mtraining.vcreg.var_weight\u001b[39m\u001b[38;5;124m\"\u001b[39m,\n\u001b[1;32m      4\u001b[0m     columns\u001b[38;5;241m=\u001b[39m\u001b[38;5;124m\"\u001b[39m\u001b[38;5;124mtraining.vcreg.cov_weight\u001b[39m\u001b[38;5;124m\"\u001b[39m,\n\u001b[1;32m      5\u001b[0m     values\u001b[38;5;241m=\u001b[39m\u001b[38;5;124m\"\u001b[39m\u001b[38;5;124mdiff\u001b[39m\u001b[38;5;124m\"\u001b[39m,\n\u001b[1;32m      6\u001b[0m )\n",
      "Cell \u001b[0;32mIn[34], line 27\u001b[0m, in \u001b[0;36mget_df\u001b[0;34m(df, network, layer, dataset)\u001b[0m\n\u001b[1;32m     25\u001b[0m filtered_df \u001b[38;5;241m=\u001b[39m df[varcov]\n\u001b[1;32m     26\u001b[0m \u001b[38;5;28mprint\u001b[39m(filtered_df[\u001b[38;5;124m\"\u001b[39m\u001b[38;5;124mavg_acc_tag\u001b[39m\u001b[38;5;124m\"\u001b[39m])\n\u001b[0;32m---> 27\u001b[0m filtered_df[\u001b[38;5;124m\"\u001b[39m\u001b[38;5;124mdiff\u001b[39m\u001b[38;5;124m\"\u001b[39m] \u001b[38;5;241m=\u001b[39m filtered_df[\u001b[38;5;124m\"\u001b[39m\u001b[38;5;124mavg_acc_tag\u001b[39m\u001b[38;5;124m\"\u001b[39m] \u001b[38;5;241m-\u001b[39m \u001b[43mdf\u001b[49m\u001b[43m[\u001b[49m\u001b[43mnoreg\u001b[49m\u001b[43m]\u001b[49m\u001b[43m[\u001b[49m\u001b[38;5;124;43m\"\u001b[39;49m\u001b[38;5;124;43mavg_acc_tag\u001b[39;49m\u001b[38;5;124;43m\"\u001b[39;49m\u001b[43m]\u001b[49m\u001b[38;5;241;43m.\u001b[39;49m\u001b[43mitem\u001b[49m\u001b[43m(\u001b[49m\u001b[43m)\u001b[49m\n\u001b[1;32m     28\u001b[0m \u001b[38;5;28;01mreturn\u001b[39;00m filtered_df\n",
      "File \u001b[0;32m/net/tscratch/people/plghpiotr/.conda/mgr_env/lib/python3.10/site-packages/pandas/core/base.py:347\u001b[0m, in \u001b[0;36mIndexOpsMixin.item\u001b[0;34m(self)\u001b[0m\n\u001b[1;32m    345\u001b[0m \u001b[38;5;28;01mif\u001b[39;00m \u001b[38;5;28mlen\u001b[39m(\u001b[38;5;28mself\u001b[39m) \u001b[38;5;241m==\u001b[39m \u001b[38;5;241m1\u001b[39m:\n\u001b[1;32m    346\u001b[0m     \u001b[38;5;28;01mreturn\u001b[39;00m \u001b[38;5;28mnext\u001b[39m(\u001b[38;5;28miter\u001b[39m(\u001b[38;5;28mself\u001b[39m))\n\u001b[0;32m--> 347\u001b[0m \u001b[38;5;28;01mraise\u001b[39;00m \u001b[38;5;167;01mValueError\u001b[39;00m(\u001b[38;5;124m\"\u001b[39m\u001b[38;5;124mcan only convert an array of size 1 to a Python scalar\u001b[39m\u001b[38;5;124m\"\u001b[39m)\n",
      "\u001b[0;31mValueError\u001b[0m: can only convert an array of size 1 to a Python scalar"
     ]
    }
   ],
   "source": [
    "network = \"resnet\"\n",
    "p = get_df(df, network, \"last_layer\", \"cifar\").pivot(\n",
    "    index=\"training.vcreg.var_weight\",\n",
    "    columns=\"training.vcreg.cov_weight\",\n",
    "    values=\"diff\",\n",
    ")\n",
    "# Plot the heatmap on the current axis\n",
    "# sns.heatmap(p, annot=True, ax=ax, vmin=-10, vmax=10)\n",
    "# ax.set_title(\" \".join([network, layer]))"
   ]
  },
  {
   "cell_type": "code",
   "execution_count": 15,
   "metadata": {},
   "outputs": [
    {
     "ename": "ValueError",
     "evalue": "can only convert an array of size 1 to a Python scalar",
     "output_type": "error",
     "traceback": [
      "\u001b[0;31m---------------------------------------------------------------------------\u001b[0m",
      "\u001b[0;31mValueError\u001b[0m                                Traceback (most recent call last)",
      "Cell \u001b[0;32mIn[15], line 27\u001b[0m\n\u001b[1;32m     22\u001b[0m axes \u001b[38;5;241m=\u001b[39m axes\u001b[38;5;241m.\u001b[39mflatten()\n\u001b[1;32m     24\u001b[0m \u001b[38;5;28;01mfor\u001b[39;00m ax, (network, layer) \u001b[38;5;129;01min\u001b[39;00m \u001b[38;5;28mzip\u001b[39m(axes, product(networks, layers)):\n\u001b[1;32m     25\u001b[0m     \u001b[38;5;66;03m# Get the DataFrame for the specific network and layer\u001b[39;00m\n\u001b[0;32m---> 27\u001b[0m     p \u001b[38;5;241m=\u001b[39m \u001b[43mget_df\u001b[49m\u001b[43m(\u001b[49m\u001b[43mdf\u001b[49m\u001b[43m,\u001b[49m\u001b[43m \u001b[49m\u001b[43mnetwork\u001b[49m\u001b[43m,\u001b[49m\u001b[43m \u001b[49m\u001b[43mlayer\u001b[49m\u001b[43m,\u001b[49m\u001b[43m \u001b[49m\u001b[38;5;124;43m\"\u001b[39;49m\u001b[38;5;124;43mcifar\u001b[39;49m\u001b[38;5;124;43m\"\u001b[39;49m\u001b[43m)\u001b[49m\u001b[38;5;241m.\u001b[39mpivot(\n\u001b[1;32m     28\u001b[0m         index\u001b[38;5;241m=\u001b[39m\u001b[38;5;124m\"\u001b[39m\u001b[38;5;124mtraining.vcreg.var_weight\u001b[39m\u001b[38;5;124m\"\u001b[39m,\n\u001b[1;32m     29\u001b[0m         columns\u001b[38;5;241m=\u001b[39m\u001b[38;5;124m\"\u001b[39m\u001b[38;5;124mtraining.vcreg.cov_weight\u001b[39m\u001b[38;5;124m\"\u001b[39m,\n\u001b[1;32m     30\u001b[0m         values\u001b[38;5;241m=\u001b[39m\u001b[38;5;124m\"\u001b[39m\u001b[38;5;124mdiff\u001b[39m\u001b[38;5;124m\"\u001b[39m,\n\u001b[1;32m     31\u001b[0m     )\n\u001b[1;32m     32\u001b[0m     \u001b[38;5;66;03m# Plot the heatmap on the current axis\u001b[39;00m\n\u001b[1;32m     33\u001b[0m     sns\u001b[38;5;241m.\u001b[39mheatmap(p, annot\u001b[38;5;241m=\u001b[39m\u001b[38;5;28;01mTrue\u001b[39;00m, ax\u001b[38;5;241m=\u001b[39max, vmin\u001b[38;5;241m=\u001b[39m\u001b[38;5;241m-\u001b[39m\u001b[38;5;241m10\u001b[39m, vmax\u001b[38;5;241m=\u001b[39m\u001b[38;5;241m10\u001b[39m)\n",
      "Cell \u001b[0;32mIn[11], line 23\u001b[0m, in \u001b[0;36mget_df\u001b[0;34m(df, network, layer, dataset)\u001b[0m\n\u001b[1;32m     20\u001b[0m noreg \u001b[38;5;241m=\u001b[39m conditions \u001b[38;5;241m&\u001b[39m (df[\u001b[38;5;124m\"\u001b[39m\u001b[38;5;124mtraining.vcreg.reg_layers\u001b[39m\u001b[38;5;124m\"\u001b[39m]\u001b[38;5;241m.\u001b[39misna())\n\u001b[1;32m     22\u001b[0m filtered_df \u001b[38;5;241m=\u001b[39m df[varcov]\n\u001b[0;32m---> 23\u001b[0m filtered_df[\u001b[38;5;124m\"\u001b[39m\u001b[38;5;124mdiff\u001b[39m\u001b[38;5;124m\"\u001b[39m] \u001b[38;5;241m=\u001b[39m filtered_df[\u001b[38;5;124m\"\u001b[39m\u001b[38;5;124mavg_acc_tag\u001b[39m\u001b[38;5;124m\"\u001b[39m] \u001b[38;5;241m-\u001b[39m \u001b[43mdf\u001b[49m\u001b[43m[\u001b[49m\u001b[43mnoreg\u001b[49m\u001b[43m]\u001b[49m\u001b[43m[\u001b[49m\u001b[38;5;124;43m\"\u001b[39;49m\u001b[38;5;124;43mavg_acc_tag\u001b[39;49m\u001b[38;5;124;43m\"\u001b[39;49m\u001b[43m]\u001b[49m\u001b[38;5;241;43m.\u001b[39;49m\u001b[43mitem\u001b[49m\u001b[43m(\u001b[49m\u001b[43m)\u001b[49m\n\u001b[1;32m     24\u001b[0m \u001b[38;5;28;01mreturn\u001b[39;00m filtered_df\n",
      "File \u001b[0;32m/net/tscratch/people/plghpiotr/.conda/mgr_env/lib/python3.10/site-packages/pandas/core/base.py:347\u001b[0m, in \u001b[0;36mIndexOpsMixin.item\u001b[0;34m(self)\u001b[0m\n\u001b[1;32m    345\u001b[0m \u001b[38;5;28;01mif\u001b[39;00m \u001b[38;5;28mlen\u001b[39m(\u001b[38;5;28mself\u001b[39m) \u001b[38;5;241m==\u001b[39m \u001b[38;5;241m1\u001b[39m:\n\u001b[1;32m    346\u001b[0m     \u001b[38;5;28;01mreturn\u001b[39;00m \u001b[38;5;28mnext\u001b[39m(\u001b[38;5;28miter\u001b[39m(\u001b[38;5;28mself\u001b[39m))\n\u001b[0;32m--> 347\u001b[0m \u001b[38;5;28;01mraise\u001b[39;00m \u001b[38;5;167;01mValueError\u001b[39;00m(\u001b[38;5;124m\"\u001b[39m\u001b[38;5;124mcan only convert an array of size 1 to a Python scalar\u001b[39m\u001b[38;5;124m\"\u001b[39m)\n",
      "\u001b[0;31mValueError\u001b[0m: can only convert an array of size 1 to a Python scalar"
     ]
    },
    {
     "data": {
      "image/png": "[encoded data removed]",
      "text/plain": [
       "<Figure size 1500x1000 with 2 Axes>"
      ]
     },
     "metadata": {},
     "output_type": "display_data"
    }
   ],
   "source": [
    "from itertools import product\n",
    "from matplotlib import pyplot as plt\n",
    "import seaborn as sns\n",
    "\n",
    "# for network, layer in product([\"resnet\", \"convnext\"], [\"last_layer\", \"intermediate\"]):\n",
    "#     p = get_df(df, network, layer).pivot(\n",
    "#         index=\"training.vcreg.var_weight\",\n",
    "#         columns=\"training.vcreg.cov_weight\",\n",
    "#         values=\"avg_acc_tag\",\n",
    "#         # aggfunc=lambda x: list(x),\n",
    "#     )\n",
    "#     sns.heatmap(p, annot=True)\n",
    "#     plt.title(\" \".join([network, layer]))\n",
    "#     plt.show()\n",
    "\n",
    "networks = [\"resnet\", \"convnext\"]\n",
    "n_rows = len(networks)\n",
    "n_cols = len(layers)\n",
    "\n",
    "fig, axes = plt.subplots(n_rows, n_cols, figsize=(15, 10))\n",
    "\n",
    "axes = axes.flatten()\n",
    "\n",
    "for ax, (network, layer) in zip(axes, product(networks, layers)):\n",
    "    # Get the DataFrame for the specific network and layer\n",
    "\n",
    "    p = get_df(df, network, layer, \"cifar\").pivot(\n",
    "        index=\"training.vcreg.var_weight\",\n",
    "        columns=\"training.vcreg.cov_weight\",\n",
    "        values=\"diff\",\n",
    "    )\n",
    "    # Plot the heatmap on the current axis\n",
    "    sns.heatmap(p, annot=True, ax=ax, vmin=-10, vmax=10)\n",
    "    ax.set_title(\" \".join([network, layer]))\n",
    "\n",
    "# Adjust layout\n",
    "plt.tight_layout()\n",
    "plt.show()"
   ]
  },
  {
   "cell_type": "code",
   "execution_count": null,
   "metadata": {},
   "outputs": [],
   "source": []
  }
 ],
 "metadata": {
  "kernelspec": {
   "display_name": "Python 3",
   "language": "python",
   "name": "python3"
  },
  "language_info": {
   "codemirror_mode": {
    "name": "ipython",
    "version": 3
   },
   "file_extension": ".py",
   "mimetype": "text/x-python",
   "name": "python",
   "nbconvert_exporter": "python",
   "pygments_lexer": "ipython3",
   "version": "3.10.11"
  }
 },
 "nbformat": 4,
 "nbformat_minor": 2
}
